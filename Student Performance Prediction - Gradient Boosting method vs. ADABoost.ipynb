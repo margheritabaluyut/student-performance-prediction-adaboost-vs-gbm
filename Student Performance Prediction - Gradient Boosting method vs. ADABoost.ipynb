{
 "cells": [
  {
   "cell_type": "markdown",
   "metadata": {
    "id": "V8N15wTBnhSx"
   },
   "source": [
    "# More than Meets the Eye: Student Performance Prediction (Gradient Boosting method vs. ADABoost)\n",
    "\n"
   ]
  },
  {
   "cell_type": "markdown",
   "metadata": {},
   "source": [
    "# Objective\n",
    "\n",
    "Schools have access to large amounts of data on their students, and the potential of this may not be fully harnessed yet. Too often, the picture of student performance is limited and the explanation given to student failures is even more limited. The goal of this project is to use student features that are quite easily accessible by schools to predict whether students will pass or fail a certain subject."
   ]
  },
  {
   "cell_type": "markdown",
   "metadata": {},
   "source": [
    "# Highlights\n",
    "1. GBM gave better test accuracy with 63.23% while ADAboost test accuracy was 62.63%\n",
    "2. GBM's top predictor was \"failures\" while ADAboost's was \"absences\"\n",
    "3. \"absences\" may be top predictor for ADAboost because it contributed to more misclassification"
   ]
  },
  {
   "cell_type": "markdown",
   "metadata": {},
   "source": [
    "# Dataset Description\n",
    "The dataset used was the “Student performance dataset” from UCI Machine learning repository, collected via questionnaires and school reports in 2014. It contained data on the students math grades (our target variable). Its features ranged from demographics or home conditions, school-related features and social features."
   ]
  },
  {
   "cell_type": "markdown",
   "metadata": {},
   "source": [
    "# Feature description\n",
    "Reference: https://archive.ics.uci.edu/ml/datasets/student+performance#\n",
    "\n",
    "1. school - student's school (binary: 'GP' - Gabriel Pereira or 'MS' - Mousinho da Silveira)\n",
    "2. sex - student's sex (binary: 'F' - female or 'M' - male)\n",
    "3. age - student's age (numeric: from 15 to 22)\n",
    "4. address - student's home address type (binary: 'U' - urban or 'R' - rural)\n",
    "5. famsize - family size (binary: 'LE3' - less or equal to 3 or 'GT3' - greater than 3)\n",
    "6. Pstatus - parent's cohabitation status (binary: 'T' - living together or 'A' - apart)\n",
    "7. Medu - mother's education (numeric: 0 - none, 1 - primary education (4th grade), 2 â€“ 5th to 9th grade, 3 â€“ secondary education or 4 â€“ higher education)\n",
    "8. Fedu - father's education (numeric: 0 - none, 1 - primary education (4th grade), 2 â€“ 5th to 9th grade, 3 â€“ secondary education or 4 â€“ higher education)\n",
    "9. Mjob - mother's job (nominal: 'teacher', 'health' care related, civil 'services' (e.g. administrative or police), 'at_home' or 'other')\n",
    "10. Fjob - father's job (nominal: 'teacher', 'health' care related, civil 'services' (e.g. administrative or police), 'at_home' or 'other')\n",
    "11. reason - reason to choose this school (nominal: close to 'home', school 'reputation', 'course' preference or 'other')\n",
    "12. guardian - student's guardian (nominal: 'mother', 'father' or 'other')\n",
    "13. traveltime - home to school travel time (numeric: 1 - <15 min., 2 - 15 to 30 min., 3 - 30 min. to 1 hour, or 4 - >1 hour)\n",
    "14. studytime - weekly study time (numeric: 1 - <2 hours, 2 - 2 to 5 hours, 3 - 5 to 10 hours, or 4 - >10 hours)\n",
    "15. failures - number of past class failures (numeric: n if 1<=n<3, else 4)\n",
    "16. schoolsup - extra educational support (binary: yes or no)\n",
    "17. famsup - family educational support (binary: yes or no)\n",
    "18. paid - extra paid classes within the course subject (Math or Portuguese) (binary: yes or no)\n",
    "19. activities - extra-curricular activities (binary: yes or no)\n",
    "20. nursery - attended nursery school (binary: yes or no)\n",
    "21. higher - wants to take higher education (binary: yes or no)\n",
    "22. internet - Internet access at home (binary: yes or no)\n",
    "23. romantic - with a romantic relationship (binary: yes or no)\n",
    "24. famrel - quality of family relationships (numeric: from 1 - very bad to 5 - excellent)\n",
    "25. freetime - free time after school (numeric: from 1 - very low to 5 - very high)\n",
    "26. goout - going out with friends (numeric: from 1 - very low to 5 - very high)\n",
    "27. Dalc - workday alcohol consumption (numeric: from 1 - very low to 5 - very high)\n",
    "28. Walc - weekend alcohol consumption (numeric: from 1 - very low to 5 - very high)\n",
    "29. health - current health status (numeric: from 1 - very bad to 5 - very good)\n",
    "30. absences - number of school absences (numeric: from 0 to 93)\n",
    "\n",
    "These will be removed from dataset to gain insight on best predictions without previous grades:\n",
    "\n",
    "31. G1 - first period grade (numeric: from 0 to 20)\n",
    "32. G2 - second period grade (numeric: from 0 to 20)\n",
    "33. G3 - final grade (numeric: from 0 to 20, output target)"
   ]
  },
  {
   "cell_type": "markdown",
   "metadata": {},
   "source": [
    "# Loading the dataset and Preprocessing"
   ]
  },
  {
   "cell_type": "code",
   "execution_count": 25,
   "metadata": {
    "ExecuteTime": {
     "end_time": "2021-11-16T09:22:11.591246Z",
     "start_time": "2021-11-16T09:22:11.583843Z"
    },
    "executionInfo": {
     "elapsed": 1186,
     "status": "ok",
     "timestamp": 1629890585328,
     "user": {
      "displayName": "Margs Baluyut",
      "photoUrl": "https://lh3.googleusercontent.com/a-/AOh14Gi2ciDykn4XnTrGNxTa3PY_C_U9vMyMiqZpqtrWng=s64",
      "userId": "06345634851943269066"
     },
     "user_tz": -480
    },
    "id": "i22wikG1nhS2"
   },
   "outputs": [],
   "source": [
    "import pandas as pd\n",
    "import numpy as np\n",
    "import matplotlib.pyplot as plt\n",
    "import time\n",
    "\n",
    "import warnings\n",
    "from warnings import simplefilter\n",
    "from sklearn.exceptions import ConvergenceWarning\n",
    "\n",
    "from sklearn.ensemble import GradientBoostingClassifier\n",
    "from sklearn.ensemble import AdaBoostClassifier\n",
    "from sklearn.model_selection import train_test_split\n",
    "from sklearn.ensemble import RandomForestClassifier\n",
    "\n",
    "warnings.filterwarnings(\"ignore\", category=FutureWarning)\n",
    "warnings.filterwarnings(\"ignore\", category=RuntimeWarning)\n",
    "warnings.filterwarnings(\"ignore\", category=ConvergenceWarning)\n",
    "\n",
    "pd.set_option('display.max_rows', 500)\n",
    "pd.set_option('display.max_columns', 500)"
   ]
  },
  {
   "cell_type": "code",
   "execution_count": 26,
   "metadata": {
    "ExecuteTime": {
     "end_time": "2021-11-16T09:22:15.170252Z",
     "start_time": "2021-11-16T09:22:15.132598Z"
    },
    "colab": {
     "base_uri": "https://localhost:8080/"
    },
    "executionInfo": {
     "elapsed": 405,
     "status": "ok",
     "timestamp": 1629694425380,
     "user": {
      "displayName": "Christopher Monterola",
      "photoUrl": "https://lh3.googleusercontent.com/a-/AOh14GiyxV9CUZD54GBpsQkscS6VRBjebHtFASKcOq-_Lw=s64",
      "userId": "07920169693232563668"
     },
     "user_tz": -480
    },
    "id": "2DE45p0ynhS3",
    "outputId": "c44f09d1-d1d5-471f-cabf-fe6e17d92177"
   },
   "outputs": [
    {
     "name": "stdout",
     "output_type": "stream",
     "text": [
      "(395, 33)\n"
     ]
    },
    {
     "data": {
      "text/html": [
       "<div>\n",
       "<style scoped>\n",
       "    .dataframe tbody tr th:only-of-type {\n",
       "        vertical-align: middle;\n",
       "    }\n",
       "\n",
       "    .dataframe tbody tr th {\n",
       "        vertical-align: top;\n",
       "    }\n",
       "\n",
       "    .dataframe thead th {\n",
       "        text-align: right;\n",
       "    }\n",
       "</style>\n",
       "<table border=\"1\" class=\"dataframe\">\n",
       "  <thead>\n",
       "    <tr style=\"text-align: right;\">\n",
       "      <th></th>\n",
       "      <th>school</th>\n",
       "      <th>sex</th>\n",
       "      <th>age</th>\n",
       "      <th>address</th>\n",
       "      <th>famsize</th>\n",
       "      <th>Pstatus</th>\n",
       "      <th>Medu</th>\n",
       "      <th>Fedu</th>\n",
       "      <th>Mjob</th>\n",
       "      <th>Fjob</th>\n",
       "      <th>reason</th>\n",
       "      <th>guardian</th>\n",
       "      <th>traveltime</th>\n",
       "      <th>studytime</th>\n",
       "      <th>failures</th>\n",
       "      <th>schoolsup</th>\n",
       "      <th>famsup</th>\n",
       "      <th>paid</th>\n",
       "      <th>activities</th>\n",
       "      <th>nursery</th>\n",
       "      <th>higher</th>\n",
       "      <th>internet</th>\n",
       "      <th>romantic</th>\n",
       "      <th>famrel</th>\n",
       "      <th>freetime</th>\n",
       "      <th>goout</th>\n",
       "      <th>Dalc</th>\n",
       "      <th>Walc</th>\n",
       "      <th>health</th>\n",
       "      <th>absences</th>\n",
       "      <th>G1</th>\n",
       "      <th>G2</th>\n",
       "      <th>G3</th>\n",
       "    </tr>\n",
       "  </thead>\n",
       "  <tbody>\n",
       "    <tr>\n",
       "      <th>0</th>\n",
       "      <td>GP</td>\n",
       "      <td>F</td>\n",
       "      <td>18</td>\n",
       "      <td>U</td>\n",
       "      <td>GT3</td>\n",
       "      <td>A</td>\n",
       "      <td>4</td>\n",
       "      <td>4</td>\n",
       "      <td>at_home</td>\n",
       "      <td>teacher</td>\n",
       "      <td>course</td>\n",
       "      <td>mother</td>\n",
       "      <td>2</td>\n",
       "      <td>2</td>\n",
       "      <td>0</td>\n",
       "      <td>yes</td>\n",
       "      <td>no</td>\n",
       "      <td>no</td>\n",
       "      <td>no</td>\n",
       "      <td>yes</td>\n",
       "      <td>yes</td>\n",
       "      <td>no</td>\n",
       "      <td>no</td>\n",
       "      <td>4</td>\n",
       "      <td>3</td>\n",
       "      <td>4</td>\n",
       "      <td>1</td>\n",
       "      <td>1</td>\n",
       "      <td>3</td>\n",
       "      <td>6</td>\n",
       "      <td>5</td>\n",
       "      <td>6</td>\n",
       "      <td>6</td>\n",
       "    </tr>\n",
       "    <tr>\n",
       "      <th>1</th>\n",
       "      <td>GP</td>\n",
       "      <td>F</td>\n",
       "      <td>17</td>\n",
       "      <td>U</td>\n",
       "      <td>GT3</td>\n",
       "      <td>T</td>\n",
       "      <td>1</td>\n",
       "      <td>1</td>\n",
       "      <td>at_home</td>\n",
       "      <td>other</td>\n",
       "      <td>course</td>\n",
       "      <td>father</td>\n",
       "      <td>1</td>\n",
       "      <td>2</td>\n",
       "      <td>0</td>\n",
       "      <td>no</td>\n",
       "      <td>yes</td>\n",
       "      <td>no</td>\n",
       "      <td>no</td>\n",
       "      <td>no</td>\n",
       "      <td>yes</td>\n",
       "      <td>yes</td>\n",
       "      <td>no</td>\n",
       "      <td>5</td>\n",
       "      <td>3</td>\n",
       "      <td>3</td>\n",
       "      <td>1</td>\n",
       "      <td>1</td>\n",
       "      <td>3</td>\n",
       "      <td>4</td>\n",
       "      <td>5</td>\n",
       "      <td>5</td>\n",
       "      <td>6</td>\n",
       "    </tr>\n",
       "    <tr>\n",
       "      <th>2</th>\n",
       "      <td>GP</td>\n",
       "      <td>F</td>\n",
       "      <td>15</td>\n",
       "      <td>U</td>\n",
       "      <td>LE3</td>\n",
       "      <td>T</td>\n",
       "      <td>1</td>\n",
       "      <td>1</td>\n",
       "      <td>at_home</td>\n",
       "      <td>other</td>\n",
       "      <td>other</td>\n",
       "      <td>mother</td>\n",
       "      <td>1</td>\n",
       "      <td>2</td>\n",
       "      <td>3</td>\n",
       "      <td>yes</td>\n",
       "      <td>no</td>\n",
       "      <td>yes</td>\n",
       "      <td>no</td>\n",
       "      <td>yes</td>\n",
       "      <td>yes</td>\n",
       "      <td>yes</td>\n",
       "      <td>no</td>\n",
       "      <td>4</td>\n",
       "      <td>3</td>\n",
       "      <td>2</td>\n",
       "      <td>2</td>\n",
       "      <td>3</td>\n",
       "      <td>3</td>\n",
       "      <td>10</td>\n",
       "      <td>7</td>\n",
       "      <td>8</td>\n",
       "      <td>10</td>\n",
       "    </tr>\n",
       "    <tr>\n",
       "      <th>3</th>\n",
       "      <td>GP</td>\n",
       "      <td>F</td>\n",
       "      <td>15</td>\n",
       "      <td>U</td>\n",
       "      <td>GT3</td>\n",
       "      <td>T</td>\n",
       "      <td>4</td>\n",
       "      <td>2</td>\n",
       "      <td>health</td>\n",
       "      <td>services</td>\n",
       "      <td>home</td>\n",
       "      <td>mother</td>\n",
       "      <td>1</td>\n",
       "      <td>3</td>\n",
       "      <td>0</td>\n",
       "      <td>no</td>\n",
       "      <td>yes</td>\n",
       "      <td>yes</td>\n",
       "      <td>yes</td>\n",
       "      <td>yes</td>\n",
       "      <td>yes</td>\n",
       "      <td>yes</td>\n",
       "      <td>yes</td>\n",
       "      <td>3</td>\n",
       "      <td>2</td>\n",
       "      <td>2</td>\n",
       "      <td>1</td>\n",
       "      <td>1</td>\n",
       "      <td>5</td>\n",
       "      <td>2</td>\n",
       "      <td>15</td>\n",
       "      <td>14</td>\n",
       "      <td>15</td>\n",
       "    </tr>\n",
       "    <tr>\n",
       "      <th>4</th>\n",
       "      <td>GP</td>\n",
       "      <td>F</td>\n",
       "      <td>16</td>\n",
       "      <td>U</td>\n",
       "      <td>GT3</td>\n",
       "      <td>T</td>\n",
       "      <td>3</td>\n",
       "      <td>3</td>\n",
       "      <td>other</td>\n",
       "      <td>other</td>\n",
       "      <td>home</td>\n",
       "      <td>father</td>\n",
       "      <td>1</td>\n",
       "      <td>2</td>\n",
       "      <td>0</td>\n",
       "      <td>no</td>\n",
       "      <td>yes</td>\n",
       "      <td>yes</td>\n",
       "      <td>no</td>\n",
       "      <td>yes</td>\n",
       "      <td>yes</td>\n",
       "      <td>no</td>\n",
       "      <td>no</td>\n",
       "      <td>4</td>\n",
       "      <td>3</td>\n",
       "      <td>2</td>\n",
       "      <td>1</td>\n",
       "      <td>2</td>\n",
       "      <td>5</td>\n",
       "      <td>4</td>\n",
       "      <td>6</td>\n",
       "      <td>10</td>\n",
       "      <td>10</td>\n",
       "    </tr>\n",
       "  </tbody>\n",
       "</table>\n",
       "</div>"
      ],
      "text/plain": [
       "  school sex  age address famsize Pstatus  Medu  Fedu     Mjob      Fjob  \\\n",
       "0     GP   F   18       U     GT3       A     4     4  at_home   teacher   \n",
       "1     GP   F   17       U     GT3       T     1     1  at_home     other   \n",
       "2     GP   F   15       U     LE3       T     1     1  at_home     other   \n",
       "3     GP   F   15       U     GT3       T     4     2   health  services   \n",
       "4     GP   F   16       U     GT3       T     3     3    other     other   \n",
       "\n",
       "   reason guardian  traveltime  studytime  failures schoolsup famsup paid  \\\n",
       "0  course   mother           2          2         0       yes     no   no   \n",
       "1  course   father           1          2         0        no    yes   no   \n",
       "2   other   mother           1          2         3       yes     no  yes   \n",
       "3    home   mother           1          3         0        no    yes  yes   \n",
       "4    home   father           1          2         0        no    yes  yes   \n",
       "\n",
       "  activities nursery higher internet romantic  famrel  freetime  goout  Dalc  \\\n",
       "0         no     yes    yes       no       no       4         3      4     1   \n",
       "1         no      no    yes      yes       no       5         3      3     1   \n",
       "2         no     yes    yes      yes       no       4         3      2     2   \n",
       "3        yes     yes    yes      yes      yes       3         2      2     1   \n",
       "4         no     yes    yes       no       no       4         3      2     1   \n",
       "\n",
       "   Walc  health  absences  G1  G2  G3  \n",
       "0     1       3         6   5   6   6  \n",
       "1     1       3         4   5   5   6  \n",
       "2     3       3        10   7   8  10  \n",
       "3     1       5         2  15  14  15  \n",
       "4     2       5         4   6  10  10  "
      ]
     },
     "execution_count": 26,
     "metadata": {},
     "output_type": "execute_result"
    }
   ],
   "source": [
    "df = pd.read_csv('student-mat.csv', sep=';')\n",
    "dummy = df\n",
    "print(dummy.shape)\n",
    "dummy.head()"
   ]
  },
  {
   "cell_type": "code",
   "execution_count": 27,
   "metadata": {
    "ExecuteTime": {
     "end_time": "2021-11-16T09:22:46.158957Z",
     "start_time": "2021-11-16T09:22:46.129971Z"
    }
   },
   "outputs": [
    {
     "data": {
      "text/html": [
       "<div>\n",
       "<style scoped>\n",
       "    .dataframe tbody tr th:only-of-type {\n",
       "        vertical-align: middle;\n",
       "    }\n",
       "\n",
       "    .dataframe tbody tr th {\n",
       "        vertical-align: top;\n",
       "    }\n",
       "\n",
       "    .dataframe thead th {\n",
       "        text-align: right;\n",
       "    }\n",
       "</style>\n",
       "<table border=\"1\" class=\"dataframe\">\n",
       "  <thead>\n",
       "    <tr style=\"text-align: right;\">\n",
       "      <th></th>\n",
       "      <th>school</th>\n",
       "      <th>sex</th>\n",
       "      <th>age</th>\n",
       "      <th>address</th>\n",
       "      <th>famsize</th>\n",
       "      <th>Pstatus</th>\n",
       "      <th>Medu</th>\n",
       "      <th>Fedu</th>\n",
       "      <th>Mjob</th>\n",
       "      <th>Fjob</th>\n",
       "      <th>reason</th>\n",
       "      <th>guardian</th>\n",
       "      <th>traveltime</th>\n",
       "      <th>studytime</th>\n",
       "      <th>failures</th>\n",
       "      <th>schoolsup</th>\n",
       "      <th>famsup</th>\n",
       "      <th>paid</th>\n",
       "      <th>activities</th>\n",
       "      <th>nursery</th>\n",
       "      <th>higher</th>\n",
       "      <th>internet</th>\n",
       "      <th>romantic</th>\n",
       "      <th>famrel</th>\n",
       "      <th>freetime</th>\n",
       "      <th>goout</th>\n",
       "      <th>Dalc</th>\n",
       "      <th>Walc</th>\n",
       "      <th>health</th>\n",
       "      <th>absences</th>\n",
       "      <th>G1</th>\n",
       "      <th>G2</th>\n",
       "      <th>G3</th>\n",
       "      <th>pass</th>\n",
       "    </tr>\n",
       "  </thead>\n",
       "  <tbody>\n",
       "    <tr>\n",
       "      <th>0</th>\n",
       "      <td>GP</td>\n",
       "      <td>F</td>\n",
       "      <td>18</td>\n",
       "      <td>U</td>\n",
       "      <td>GT3</td>\n",
       "      <td>A</td>\n",
       "      <td>4</td>\n",
       "      <td>4</td>\n",
       "      <td>at_home</td>\n",
       "      <td>teacher</td>\n",
       "      <td>course</td>\n",
       "      <td>mother</td>\n",
       "      <td>2</td>\n",
       "      <td>2</td>\n",
       "      <td>0</td>\n",
       "      <td>yes</td>\n",
       "      <td>no</td>\n",
       "      <td>no</td>\n",
       "      <td>no</td>\n",
       "      <td>yes</td>\n",
       "      <td>yes</td>\n",
       "      <td>no</td>\n",
       "      <td>no</td>\n",
       "      <td>4</td>\n",
       "      <td>3</td>\n",
       "      <td>4</td>\n",
       "      <td>1</td>\n",
       "      <td>1</td>\n",
       "      <td>3</td>\n",
       "      <td>6</td>\n",
       "      <td>5</td>\n",
       "      <td>6</td>\n",
       "      <td>6</td>\n",
       "      <td>0</td>\n",
       "    </tr>\n",
       "    <tr>\n",
       "      <th>1</th>\n",
       "      <td>GP</td>\n",
       "      <td>F</td>\n",
       "      <td>17</td>\n",
       "      <td>U</td>\n",
       "      <td>GT3</td>\n",
       "      <td>T</td>\n",
       "      <td>1</td>\n",
       "      <td>1</td>\n",
       "      <td>at_home</td>\n",
       "      <td>other</td>\n",
       "      <td>course</td>\n",
       "      <td>father</td>\n",
       "      <td>1</td>\n",
       "      <td>2</td>\n",
       "      <td>0</td>\n",
       "      <td>no</td>\n",
       "      <td>yes</td>\n",
       "      <td>no</td>\n",
       "      <td>no</td>\n",
       "      <td>no</td>\n",
       "      <td>yes</td>\n",
       "      <td>yes</td>\n",
       "      <td>no</td>\n",
       "      <td>5</td>\n",
       "      <td>3</td>\n",
       "      <td>3</td>\n",
       "      <td>1</td>\n",
       "      <td>1</td>\n",
       "      <td>3</td>\n",
       "      <td>4</td>\n",
       "      <td>5</td>\n",
       "      <td>5</td>\n",
       "      <td>6</td>\n",
       "      <td>0</td>\n",
       "    </tr>\n",
       "    <tr>\n",
       "      <th>2</th>\n",
       "      <td>GP</td>\n",
       "      <td>F</td>\n",
       "      <td>15</td>\n",
       "      <td>U</td>\n",
       "      <td>LE3</td>\n",
       "      <td>T</td>\n",
       "      <td>1</td>\n",
       "      <td>1</td>\n",
       "      <td>at_home</td>\n",
       "      <td>other</td>\n",
       "      <td>other</td>\n",
       "      <td>mother</td>\n",
       "      <td>1</td>\n",
       "      <td>2</td>\n",
       "      <td>3</td>\n",
       "      <td>yes</td>\n",
       "      <td>no</td>\n",
       "      <td>yes</td>\n",
       "      <td>no</td>\n",
       "      <td>yes</td>\n",
       "      <td>yes</td>\n",
       "      <td>yes</td>\n",
       "      <td>no</td>\n",
       "      <td>4</td>\n",
       "      <td>3</td>\n",
       "      <td>2</td>\n",
       "      <td>2</td>\n",
       "      <td>3</td>\n",
       "      <td>3</td>\n",
       "      <td>10</td>\n",
       "      <td>7</td>\n",
       "      <td>8</td>\n",
       "      <td>10</td>\n",
       "      <td>0</td>\n",
       "    </tr>\n",
       "    <tr>\n",
       "      <th>3</th>\n",
       "      <td>GP</td>\n",
       "      <td>F</td>\n",
       "      <td>15</td>\n",
       "      <td>U</td>\n",
       "      <td>GT3</td>\n",
       "      <td>T</td>\n",
       "      <td>4</td>\n",
       "      <td>2</td>\n",
       "      <td>health</td>\n",
       "      <td>services</td>\n",
       "      <td>home</td>\n",
       "      <td>mother</td>\n",
       "      <td>1</td>\n",
       "      <td>3</td>\n",
       "      <td>0</td>\n",
       "      <td>no</td>\n",
       "      <td>yes</td>\n",
       "      <td>yes</td>\n",
       "      <td>yes</td>\n",
       "      <td>yes</td>\n",
       "      <td>yes</td>\n",
       "      <td>yes</td>\n",
       "      <td>yes</td>\n",
       "      <td>3</td>\n",
       "      <td>2</td>\n",
       "      <td>2</td>\n",
       "      <td>1</td>\n",
       "      <td>1</td>\n",
       "      <td>5</td>\n",
       "      <td>2</td>\n",
       "      <td>15</td>\n",
       "      <td>14</td>\n",
       "      <td>15</td>\n",
       "      <td>0</td>\n",
       "    </tr>\n",
       "    <tr>\n",
       "      <th>4</th>\n",
       "      <td>GP</td>\n",
       "      <td>F</td>\n",
       "      <td>16</td>\n",
       "      <td>U</td>\n",
       "      <td>GT3</td>\n",
       "      <td>T</td>\n",
       "      <td>3</td>\n",
       "      <td>3</td>\n",
       "      <td>other</td>\n",
       "      <td>other</td>\n",
       "      <td>home</td>\n",
       "      <td>father</td>\n",
       "      <td>1</td>\n",
       "      <td>2</td>\n",
       "      <td>0</td>\n",
       "      <td>no</td>\n",
       "      <td>yes</td>\n",
       "      <td>yes</td>\n",
       "      <td>no</td>\n",
       "      <td>yes</td>\n",
       "      <td>yes</td>\n",
       "      <td>no</td>\n",
       "      <td>no</td>\n",
       "      <td>4</td>\n",
       "      <td>3</td>\n",
       "      <td>2</td>\n",
       "      <td>1</td>\n",
       "      <td>2</td>\n",
       "      <td>5</td>\n",
       "      <td>4</td>\n",
       "      <td>6</td>\n",
       "      <td>10</td>\n",
       "      <td>10</td>\n",
       "      <td>0</td>\n",
       "    </tr>\n",
       "  </tbody>\n",
       "</table>\n",
       "</div>"
      ],
      "text/plain": [
       "  school sex  age address famsize Pstatus  Medu  Fedu     Mjob      Fjob  \\\n",
       "0     GP   F   18       U     GT3       A     4     4  at_home   teacher   \n",
       "1     GP   F   17       U     GT3       T     1     1  at_home     other   \n",
       "2     GP   F   15       U     LE3       T     1     1  at_home     other   \n",
       "3     GP   F   15       U     GT3       T     4     2   health  services   \n",
       "4     GP   F   16       U     GT3       T     3     3    other     other   \n",
       "\n",
       "   reason guardian  traveltime  studytime  failures schoolsup famsup paid  \\\n",
       "0  course   mother           2          2         0       yes     no   no   \n",
       "1  course   father           1          2         0        no    yes   no   \n",
       "2   other   mother           1          2         3       yes     no  yes   \n",
       "3    home   mother           1          3         0        no    yes  yes   \n",
       "4    home   father           1          2         0        no    yes  yes   \n",
       "\n",
       "  activities nursery higher internet romantic  famrel  freetime  goout  Dalc  \\\n",
       "0         no     yes    yes       no       no       4         3      4     1   \n",
       "1         no      no    yes      yes       no       5         3      3     1   \n",
       "2         no     yes    yes      yes       no       4         3      2     2   \n",
       "3        yes     yes    yes      yes      yes       3         2      2     1   \n",
       "4         no     yes    yes       no       no       4         3      2     1   \n",
       "\n",
       "   Walc  health  absences  G1  G2  G3  pass  \n",
       "0     1       3         6   5   6   6     0  \n",
       "1     1       3         4   5   5   6     0  \n",
       "2     3       3        10   7   8  10     0  \n",
       "3     1       5         2  15  14  15     0  \n",
       "4     2       5         4   6  10  10     0  "
      ]
     },
     "execution_count": 27,
     "metadata": {},
     "output_type": "execute_result"
    }
   ],
   "source": [
    "# assume passing grade is 60%\n",
    "df['pass'] = np.where(df['G3']< 16, 0, 1)\n",
    "df.head()"
   ]
  },
  {
   "cell_type": "code",
   "execution_count": 28,
   "metadata": {
    "ExecuteTime": {
     "end_time": "2021-11-16T09:22:50.944568Z",
     "start_time": "2021-11-16T09:22:50.905498Z"
    }
   },
   "outputs": [
    {
     "data": {
      "text/html": [
       "<div>\n",
       "<style scoped>\n",
       "    .dataframe tbody tr th:only-of-type {\n",
       "        vertical-align: middle;\n",
       "    }\n",
       "\n",
       "    .dataframe tbody tr th {\n",
       "        vertical-align: top;\n",
       "    }\n",
       "\n",
       "    .dataframe thead th {\n",
       "        text-align: right;\n",
       "    }\n",
       "</style>\n",
       "<table border=\"1\" class=\"dataframe\">\n",
       "  <thead>\n",
       "    <tr style=\"text-align: right;\">\n",
       "      <th></th>\n",
       "      <th>school</th>\n",
       "      <th>sex</th>\n",
       "      <th>age</th>\n",
       "      <th>address</th>\n",
       "      <th>famsize</th>\n",
       "      <th>Pstatus</th>\n",
       "      <th>Medu</th>\n",
       "      <th>Fedu</th>\n",
       "      <th>Mjob</th>\n",
       "      <th>Fjob</th>\n",
       "      <th>reason</th>\n",
       "      <th>guardian</th>\n",
       "      <th>traveltime</th>\n",
       "      <th>studytime</th>\n",
       "      <th>failures</th>\n",
       "      <th>schoolsup</th>\n",
       "      <th>famsup</th>\n",
       "      <th>paid</th>\n",
       "      <th>activities</th>\n",
       "      <th>nursery</th>\n",
       "      <th>higher</th>\n",
       "      <th>internet</th>\n",
       "      <th>romantic</th>\n",
       "      <th>famrel</th>\n",
       "      <th>freetime</th>\n",
       "      <th>goout</th>\n",
       "      <th>Dalc</th>\n",
       "      <th>Walc</th>\n",
       "      <th>health</th>\n",
       "      <th>absences</th>\n",
       "      <th>pass</th>\n",
       "    </tr>\n",
       "  </thead>\n",
       "  <tbody>\n",
       "    <tr>\n",
       "      <th>0</th>\n",
       "      <td>GP</td>\n",
       "      <td>F</td>\n",
       "      <td>18</td>\n",
       "      <td>U</td>\n",
       "      <td>GT3</td>\n",
       "      <td>A</td>\n",
       "      <td>4</td>\n",
       "      <td>4</td>\n",
       "      <td>at_home</td>\n",
       "      <td>teacher</td>\n",
       "      <td>course</td>\n",
       "      <td>mother</td>\n",
       "      <td>2</td>\n",
       "      <td>2</td>\n",
       "      <td>0</td>\n",
       "      <td>yes</td>\n",
       "      <td>no</td>\n",
       "      <td>no</td>\n",
       "      <td>no</td>\n",
       "      <td>yes</td>\n",
       "      <td>yes</td>\n",
       "      <td>no</td>\n",
       "      <td>no</td>\n",
       "      <td>4</td>\n",
       "      <td>3</td>\n",
       "      <td>4</td>\n",
       "      <td>1</td>\n",
       "      <td>1</td>\n",
       "      <td>3</td>\n",
       "      <td>6</td>\n",
       "      <td>0</td>\n",
       "    </tr>\n",
       "    <tr>\n",
       "      <th>1</th>\n",
       "      <td>GP</td>\n",
       "      <td>F</td>\n",
       "      <td>17</td>\n",
       "      <td>U</td>\n",
       "      <td>GT3</td>\n",
       "      <td>T</td>\n",
       "      <td>1</td>\n",
       "      <td>1</td>\n",
       "      <td>at_home</td>\n",
       "      <td>other</td>\n",
       "      <td>course</td>\n",
       "      <td>father</td>\n",
       "      <td>1</td>\n",
       "      <td>2</td>\n",
       "      <td>0</td>\n",
       "      <td>no</td>\n",
       "      <td>yes</td>\n",
       "      <td>no</td>\n",
       "      <td>no</td>\n",
       "      <td>no</td>\n",
       "      <td>yes</td>\n",
       "      <td>yes</td>\n",
       "      <td>no</td>\n",
       "      <td>5</td>\n",
       "      <td>3</td>\n",
       "      <td>3</td>\n",
       "      <td>1</td>\n",
       "      <td>1</td>\n",
       "      <td>3</td>\n",
       "      <td>4</td>\n",
       "      <td>0</td>\n",
       "    </tr>\n",
       "    <tr>\n",
       "      <th>2</th>\n",
       "      <td>GP</td>\n",
       "      <td>F</td>\n",
       "      <td>15</td>\n",
       "      <td>U</td>\n",
       "      <td>LE3</td>\n",
       "      <td>T</td>\n",
       "      <td>1</td>\n",
       "      <td>1</td>\n",
       "      <td>at_home</td>\n",
       "      <td>other</td>\n",
       "      <td>other</td>\n",
       "      <td>mother</td>\n",
       "      <td>1</td>\n",
       "      <td>2</td>\n",
       "      <td>3</td>\n",
       "      <td>yes</td>\n",
       "      <td>no</td>\n",
       "      <td>yes</td>\n",
       "      <td>no</td>\n",
       "      <td>yes</td>\n",
       "      <td>yes</td>\n",
       "      <td>yes</td>\n",
       "      <td>no</td>\n",
       "      <td>4</td>\n",
       "      <td>3</td>\n",
       "      <td>2</td>\n",
       "      <td>2</td>\n",
       "      <td>3</td>\n",
       "      <td>3</td>\n",
       "      <td>10</td>\n",
       "      <td>0</td>\n",
       "    </tr>\n",
       "    <tr>\n",
       "      <th>3</th>\n",
       "      <td>GP</td>\n",
       "      <td>F</td>\n",
       "      <td>15</td>\n",
       "      <td>U</td>\n",
       "      <td>GT3</td>\n",
       "      <td>T</td>\n",
       "      <td>4</td>\n",
       "      <td>2</td>\n",
       "      <td>health</td>\n",
       "      <td>services</td>\n",
       "      <td>home</td>\n",
       "      <td>mother</td>\n",
       "      <td>1</td>\n",
       "      <td>3</td>\n",
       "      <td>0</td>\n",
       "      <td>no</td>\n",
       "      <td>yes</td>\n",
       "      <td>yes</td>\n",
       "      <td>yes</td>\n",
       "      <td>yes</td>\n",
       "      <td>yes</td>\n",
       "      <td>yes</td>\n",
       "      <td>yes</td>\n",
       "      <td>3</td>\n",
       "      <td>2</td>\n",
       "      <td>2</td>\n",
       "      <td>1</td>\n",
       "      <td>1</td>\n",
       "      <td>5</td>\n",
       "      <td>2</td>\n",
       "      <td>0</td>\n",
       "    </tr>\n",
       "    <tr>\n",
       "      <th>4</th>\n",
       "      <td>GP</td>\n",
       "      <td>F</td>\n",
       "      <td>16</td>\n",
       "      <td>U</td>\n",
       "      <td>GT3</td>\n",
       "      <td>T</td>\n",
       "      <td>3</td>\n",
       "      <td>3</td>\n",
       "      <td>other</td>\n",
       "      <td>other</td>\n",
       "      <td>home</td>\n",
       "      <td>father</td>\n",
       "      <td>1</td>\n",
       "      <td>2</td>\n",
       "      <td>0</td>\n",
       "      <td>no</td>\n",
       "      <td>yes</td>\n",
       "      <td>yes</td>\n",
       "      <td>no</td>\n",
       "      <td>yes</td>\n",
       "      <td>yes</td>\n",
       "      <td>no</td>\n",
       "      <td>no</td>\n",
       "      <td>4</td>\n",
       "      <td>3</td>\n",
       "      <td>2</td>\n",
       "      <td>1</td>\n",
       "      <td>2</td>\n",
       "      <td>5</td>\n",
       "      <td>4</td>\n",
       "      <td>0</td>\n",
       "    </tr>\n",
       "  </tbody>\n",
       "</table>\n",
       "</div>"
      ],
      "text/plain": [
       "  school sex  age address famsize Pstatus  Medu  Fedu     Mjob      Fjob  \\\n",
       "0     GP   F   18       U     GT3       A     4     4  at_home   teacher   \n",
       "1     GP   F   17       U     GT3       T     1     1  at_home     other   \n",
       "2     GP   F   15       U     LE3       T     1     1  at_home     other   \n",
       "3     GP   F   15       U     GT3       T     4     2   health  services   \n",
       "4     GP   F   16       U     GT3       T     3     3    other     other   \n",
       "\n",
       "   reason guardian  traveltime  studytime  failures schoolsup famsup paid  \\\n",
       "0  course   mother           2          2         0       yes     no   no   \n",
       "1  course   father           1          2         0        no    yes   no   \n",
       "2   other   mother           1          2         3       yes     no  yes   \n",
       "3    home   mother           1          3         0        no    yes  yes   \n",
       "4    home   father           1          2         0        no    yes  yes   \n",
       "\n",
       "  activities nursery higher internet romantic  famrel  freetime  goout  Dalc  \\\n",
       "0         no     yes    yes       no       no       4         3      4     1   \n",
       "1         no      no    yes      yes       no       5         3      3     1   \n",
       "2         no     yes    yes      yes       no       4         3      2     2   \n",
       "3        yes     yes    yes      yes      yes       3         2      2     1   \n",
       "4         no     yes    yes       no       no       4         3      2     1   \n",
       "\n",
       "   Walc  health  absences  pass  \n",
       "0     1       3         6     0  \n",
       "1     1       3         4     0  \n",
       "2     3       3        10     0  \n",
       "3     1       5         2     0  \n",
       "4     2       5         4     0  "
      ]
     },
     "execution_count": 28,
     "metadata": {},
     "output_type": "execute_result"
    }
   ],
   "source": [
    "# remove G1, G2, G3\n",
    "df = df.drop(columns=['G1', 'G2', 'G3'])\n",
    "df.head()"
   ]
  },
  {
   "cell_type": "markdown",
   "metadata": {},
   "source": [
    "# Exploratory Data Analytics"
   ]
  },
  {
   "cell_type": "code",
   "execution_count": 29,
   "metadata": {
    "ExecuteTime": {
     "end_time": "2021-11-16T09:25:07.365097Z",
     "start_time": "2021-11-16T09:25:07.217599Z"
    },
    "colab": {
     "base_uri": "https://localhost:8080/"
    },
    "executionInfo": {
     "elapsed": 483,
     "status": "ok",
     "timestamp": 1629694425860,
     "user": {
      "displayName": "Christopher Monterola",
      "photoUrl": "https://lh3.googleusercontent.com/a-/AOh14GiyxV9CUZD54GBpsQkscS6VRBjebHtFASKcOq-_Lw=s64",
      "userId": "07920169693232563668"
     },
     "user_tz": -480
    },
    "id": "lfrqu3OenhS4",
    "outputId": "88d7c7fe-b511-43da-be84-0d4aba20a9dd"
   },
   "outputs": [
    {
     "data": {
      "image/png": "[encoded data removed]",
      "text/plain": [
       "<Figure size 432x288 with 1 Axes>"
      ]
     },
     "metadata": {
      "needs_background": "light"
     },
     "output_type": "display_data"
    }
   ],
   "source": [
    "# distribution of target variable\n",
    "import seaborn as sns\n",
    "sns.countplot(df['pass'],label=\"Count\", palette='BrBG')\n",
    "plt.show()"
   ]
  },
  {
   "cell_type": "code",
   "execution_count": 30,
   "metadata": {
    "ExecuteTime": {
     "end_time": "2021-11-16T09:25:13.473078Z",
     "start_time": "2021-11-16T09:25:09.056431Z"
    },
    "scrolled": true
   },
   "outputs": [
    {
     "data": {
      "image/png": "[encoded data removed]",
      "text/plain": [
       "<Figure size 432x288 with 1 Axes>"
      ]
     },
     "metadata": {
      "needs_background": "light"
     },
     "output_type": "display_data"
    },
    {
     "data": {
      "image/png": "[encoded data removed]",
      "text/plain": [
       "<Figure size 432x288 with 1 Axes>"
      ]
     },
     "metadata": {
      "needs_background": "light"
     },
     "output_type": "display_data"
    },
    {
     "data": {
      "image/png": "[encoded data removed]",
      "text/plain": [
       "<Figure size 432x288 with 1 Axes>"
      ]
     },
     "metadata": {
      "needs_background": "light"
     },
     "output_type": "display_data"
    },
    {
     "data": {
      "image/png": "[encoded data removed]",
      "text/plain": [
       "<Figure size 432x288 with 1 Axes>"
      ]
     },
     "metadata": {
      "needs_background": "light"
     },
     "output_type": "display_data"
    },
    {
     "data": {
      "image/png": "[encoded data removed]",
      "text/plain": [
       "<Figure size 432x288 with 1 Axes>"
      ]
     },
     "metadata": {
      "needs_background": "light"
     },
     "output_type": "display_data"
    },
    {
     "data": {
      "image/png": "[encoded data removed]",
      "text/plain": [
       "<Figure size 432x288 with 1 Axes>"
      ]
     },
     "metadata": {
      "needs_background": "light"
     },
     "output_type": "display_data"
    },
    {
     "data": {
      "image/png": "[encoded data removed]",
      "text/plain": [
       "<Figure size 432x288 with 1 Axes>"
      ]
     },
     "metadata": {
      "needs_background": "light"
     },
     "output_type": "display_data"
    },
    {
     "data": {
      "image/png": "[encoded data removed]",
      "text/plain": [
       "<Figure size 432x288 with 1 Axes>"
      ]
     },
     "metadata": {
      "needs_background": "light"
     },
     "output_type": "display_data"
    },
    {
     "data": {
      "image/png": "[encoded data removed]",
      "text/plain": [
       "<Figure size 432x288 with 1 Axes>"
      ]
     },
     "metadata": {
      "needs_background": "light"
     },
     "output_type": "display_data"
    },
    {
     "data": {
      "image/png": "[encoded data removed]",
      "text/plain": [
       "<Figure size 432x288 with 1 Axes>"
      ]
     },
     "metadata": {
      "needs_background": "light"
     },
     "output_type": "display_data"
    },
    {
     "data": {
      "image/png": "[encoded data removed]",
      "text/plain": [
       "<Figure size 432x288 with 1 Axes>"
      ]
     },
     "metadata": {
      "needs_background": "light"
     },
     "output_type": "display_data"
    },
    {
     "data": {
      "image/png": "[encoded data removed]",
      "text/plain": [
       "<Figure size 432x288 with 1 Axes>"
      ]
     },
     "metadata": {
      "needs_background": "light"
     },
     "output_type": "display_data"
    },
    {
     "data": {
      "image/png": "[encoded data removed]",
      "text/plain": [
       "<Figure size 432x288 with 1 Axes>"
      ]
     },
     "metadata": {
      "needs_background": "light"
     },
     "output_type": "display_data"
    },
    {
     "data": {
      "image/png": "[encoded data removed]",
      "text/plain": [
       "<Figure size 432x288 with 1 Axes>"
      ]
     },
     "metadata": {
      "needs_background": "light"
     },
     "output_type": "display_data"
    },
    {
     "data": {
      "image/png": "[encoded data removed]",
      "text/plain": [
       "<Figure size 432x288 with 1 Axes>"
      ]
     },
     "metadata": {
      "needs_background": "light"
     },
     "output_type": "display_data"
    },
    {
     "data": {
      "image/png": "[encoded data removed]",
      "text/plain": [
       "<Figure size 432x288 with 1 Axes>"
      ]
     },
     "metadata": {
      "needs_background": "light"
     },
     "output_type": "display_data"
    },
    {
     "data": {
      "image/png": "[encoded data removed]",
      "text/plain": [
       "<Figure size 432x288 with 1 Axes>"
      ]
     },
     "metadata": {
      "needs_background": "light"
     },
     "output_type": "display_data"
    },
    {
     "data": {
      "image/png": "[encoded data removed]",
      "text/plain": [
       "<Figure size 432x288 with 1 Axes>"
      ]
     },
     "metadata": {
      "needs_background": "light"
     },
     "output_type": "display_data"
    },
    {
     "data": {
      "image/png": "[encoded data removed]",
      "text/plain": [
       "<Figure size 432x288 with 1 Axes>"
      ]
     },
     "metadata": {
      "needs_background": "light"
     },
     "output_type": "display_data"
    },
    {
     "data": {
      "image/png": "[encoded data removed]",
      "text/plain": [
       "<Figure size 432x288 with 1 Axes>"
      ]
     },
     "metadata": {
      "needs_background": "light"
     },
     "output_type": "display_data"
    },
    {
     "data": {
      "image/png": "[encoded data removed]",
      "text/plain": [
       "<Figure size 432x288 with 1 Axes>"
      ]
     },
     "metadata": {
      "needs_background": "light"
     },
     "output_type": "display_data"
    },
    {
     "data": {
      "image/png": "[encoded data removed]",
      "text/plain": [
       "<Figure size 432x288 with 1 Axes>"
      ]
     },
     "metadata": {
      "needs_background": "light"
     },
     "output_type": "display_data"
    },
    {
     "data": {
      "image/png": "[encoded data removed]",
      "text/plain": [
       "<Figure size 432x288 with 1 Axes>"
      ]
     },
     "metadata": {
      "needs_background": "light"
     },
     "output_type": "display_data"
    },
    {
     "data": {
      "image/png": "[encoded data removed]",
      "text/plain": [
       "<Figure size 432x288 with 1 Axes>"
      ]
     },
     "metadata": {
      "needs_background": "light"
     },
     "output_type": "display_data"
    },
    {
     "data": {
      "image/png": "[encoded data removed]",
      "text/plain": [
       "<Figure size 432x288 with 1 Axes>"
      ]
     },
     "metadata": {
      "needs_background": "light"
     },
     "output_type": "display_data"
    },
    {
     "data": {
      "image/png": "[encoded data removed]",
      "text/plain": [
       "<Figure size 432x288 with 1 Axes>"
      ]
     },
     "metadata": {
      "needs_background": "light"
     },
     "output_type": "display_data"
    },
    {
     "data": {
      "image/png": "[encoded data removed]",
      "text/plain": [
       "<Figure size 432x288 with 1 Axes>"
      ]
     },
     "metadata": {
      "needs_background": "light"
     },
     "output_type": "display_data"
    },
    {
     "data": {
      "image/png": "[encoded data removed]",
      "text/plain": [
       "<Figure size 432x288 with 1 Axes>"
      ]
     },
     "metadata": {
      "needs_background": "light"
     },
     "output_type": "display_data"
    },
    {
     "data": {
      "image/png": "[encoded data removed]",
      "text/plain": [
       "<Figure size 432x288 with 1 Axes>"
      ]
     },
     "metadata": {
      "needs_background": "light"
     },
     "output_type": "display_data"
    },
    {
     "data": {
      "image/png": "[encoded data removed]",
      "text/plain": [
       "<Figure size 432x288 with 1 Axes>"
      ]
     },
     "metadata": {
      "needs_background": "light"
     },
     "output_type": "display_data"
    },
    {
     "data": {
      "image/png": "[encoded data removed]",
      "text/plain": [
       "<Figure size 432x288 with 1 Axes>"
      ]
     },
     "metadata": {
      "needs_background": "light"
     },
     "output_type": "display_data"
    }
   ],
   "source": [
    "# distribution of each feature\n",
    "for col in df.columns:\n",
    "    sns.countplot(df[col],label=\"Count\", palette='BrBG')\n",
    "    plt.show()"
   ]
  },
  {
   "cell_type": "code",
   "execution_count": 31,
   "metadata": {
    "ExecuteTime": {
     "end_time": "2021-11-16T09:25:15.335881Z",
     "start_time": "2021-11-16T09:25:15.327000Z"
    }
   },
   "outputs": [
    {
     "name": "stdout",
     "output_type": "stream",
     "text": [
      "Proportion Chance Criterion = 81.7977888158949%\n",
      "1.25*Proportion Chance Criterion = 102.24723601986862%\n"
     ]
    }
   ],
   "source": [
    "# compute proportion chance criterion\n",
    "pcc = (df[df['pass']==1].shape[0]/df.shape[0])**2 + (df[df['pass']==0].shape[0]/df.shape[0])**2 \n",
    "\n",
    "print(\"Proportion Chance Criterion = {}%\".format(100*pcc))\n",
    "print(\"1.25*Proportion Chance Criterion = {}%\".format(1.25*100*pcc))"
   ]
  },
  {
   "cell_type": "markdown",
   "metadata": {
    "id": "Irm8eH5tnhS5"
   },
   "source": [
    "# Look at the missing values\n",
    "There are no null values for this dataset."
   ]
  },
  {
   "cell_type": "code",
   "execution_count": 32,
   "metadata": {
    "ExecuteTime": {
     "end_time": "2021-11-16T09:25:22.453730Z",
     "start_time": "2021-11-16T09:25:22.445215Z"
    },
    "colab": {
     "base_uri": "https://localhost:8080/"
    },
    "executionInfo": {
     "elapsed": 23,
     "status": "ok",
     "timestamp": 1629694440219,
     "user": {
      "displayName": "Christopher Monterola",
      "photoUrl": "https://lh3.googleusercontent.com/a-/AOh14GiyxV9CUZD54GBpsQkscS6VRBjebHtFASKcOq-_Lw=s64",
      "userId": "07920169693232563668"
     },
     "user_tz": -480
    },
    "id": "kFn3o-UTnhS5",
    "outputId": "f94c67bf-d2d6-46b6-e08d-564e2421a0c0"
   },
   "outputs": [
    {
     "data": {
      "text/plain": [
       "school        0\n",
       "sex           0\n",
       "age           0\n",
       "address       0\n",
       "famsize       0\n",
       "Pstatus       0\n",
       "Medu          0\n",
       "Fedu          0\n",
       "Mjob          0\n",
       "Fjob          0\n",
       "reason        0\n",
       "guardian      0\n",
       "traveltime    0\n",
       "studytime     0\n",
       "failures      0\n",
       "schoolsup     0\n",
       "famsup        0\n",
       "paid          0\n",
       "activities    0\n",
       "nursery       0\n",
       "higher        0\n",
       "internet      0\n",
       "romantic      0\n",
       "famrel        0\n",
       "freetime      0\n",
       "goout         0\n",
       "Dalc          0\n",
       "Walc          0\n",
       "health        0\n",
       "absences      0\n",
       "pass          0\n",
       "dtype: int64"
      ]
     },
     "execution_count": 32,
     "metadata": {},
     "output_type": "execute_result"
    }
   ],
   "source": [
    "df.isnull().sum()"
   ]
  },
  {
   "cell_type": "markdown",
   "metadata": {
    "id": "b1bhTSU5nhS6"
   },
   "source": [
    "# One Hot Encode categorical values"
   ]
  },
  {
   "cell_type": "code",
   "execution_count": 33,
   "metadata": {
    "ExecuteTime": {
     "end_time": "2021-11-16T09:25:34.880982Z",
     "start_time": "2021-11-16T09:25:34.827055Z"
    },
    "id": "fG-9RuBRnhS6"
   },
   "outputs": [
    {
     "name": "stdout",
     "output_type": "stream",
     "text": [
      "(395, 56)\n"
     ]
    },
    {
     "data": {
      "text/html": [
       "<div>\n",
       "<style scoped>\n",
       "    .dataframe tbody tr th:only-of-type {\n",
       "        vertical-align: middle;\n",
       "    }\n",
       "\n",
       "    .dataframe tbody tr th {\n",
       "        vertical-align: top;\n",
       "    }\n",
       "\n",
       "    .dataframe thead th {\n",
       "        text-align: right;\n",
       "    }\n",
       "</style>\n",
       "<table border=\"1\" class=\"dataframe\">\n",
       "  <thead>\n",
       "    <tr style=\"text-align: right;\">\n",
       "      <th></th>\n",
       "      <th>age</th>\n",
       "      <th>Medu</th>\n",
       "      <th>Fedu</th>\n",
       "      <th>traveltime</th>\n",
       "      <th>studytime</th>\n",
       "      <th>failures</th>\n",
       "      <th>famrel</th>\n",
       "      <th>freetime</th>\n",
       "      <th>goout</th>\n",
       "      <th>Dalc</th>\n",
       "      <th>Walc</th>\n",
       "      <th>health</th>\n",
       "      <th>absences</th>\n",
       "      <th>school_GP</th>\n",
       "      <th>school_MS</th>\n",
       "      <th>sex_F</th>\n",
       "      <th>sex_M</th>\n",
       "      <th>address_R</th>\n",
       "      <th>address_U</th>\n",
       "      <th>famsize_GT3</th>\n",
       "      <th>famsize_LE3</th>\n",
       "      <th>Pstatus_A</th>\n",
       "      <th>Pstatus_T</th>\n",
       "      <th>Mjob_at_home</th>\n",
       "      <th>Mjob_health</th>\n",
       "      <th>Mjob_other</th>\n",
       "      <th>Mjob_services</th>\n",
       "      <th>Mjob_teacher</th>\n",
       "      <th>Fjob_at_home</th>\n",
       "      <th>Fjob_health</th>\n",
       "      <th>Fjob_other</th>\n",
       "      <th>Fjob_services</th>\n",
       "      <th>Fjob_teacher</th>\n",
       "      <th>reason_course</th>\n",
       "      <th>reason_home</th>\n",
       "      <th>reason_other</th>\n",
       "      <th>reason_reputation</th>\n",
       "      <th>guardian_father</th>\n",
       "      <th>guardian_mother</th>\n",
       "      <th>guardian_other</th>\n",
       "      <th>schoolsup_no</th>\n",
       "      <th>schoolsup_yes</th>\n",
       "      <th>famsup_no</th>\n",
       "      <th>famsup_yes</th>\n",
       "      <th>paid_no</th>\n",
       "      <th>paid_yes</th>\n",
       "      <th>activities_no</th>\n",
       "      <th>activities_yes</th>\n",
       "      <th>nursery_no</th>\n",
       "      <th>nursery_yes</th>\n",
       "      <th>higher_no</th>\n",
       "      <th>higher_yes</th>\n",
       "      <th>internet_no</th>\n",
       "      <th>internet_yes</th>\n",
       "      <th>romantic_no</th>\n",
       "      <th>romantic_yes</th>\n",
       "    </tr>\n",
       "  </thead>\n",
       "  <tbody>\n",
       "    <tr>\n",
       "      <th>0</th>\n",
       "      <td>18</td>\n",
       "      <td>4</td>\n",
       "      <td>4</td>\n",
       "      <td>2</td>\n",
       "      <td>2</td>\n",
       "      <td>0</td>\n",
       "      <td>4</td>\n",
       "      <td>3</td>\n",
       "      <td>4</td>\n",
       "      <td>1</td>\n",
       "      <td>1</td>\n",
       "      <td>3</td>\n",
       "      <td>6</td>\n",
       "      <td>1</td>\n",
       "      <td>0</td>\n",
       "      <td>1</td>\n",
       "      <td>0</td>\n",
       "      <td>0</td>\n",
       "      <td>1</td>\n",
       "      <td>1</td>\n",
       "      <td>0</td>\n",
       "      <td>1</td>\n",
       "      <td>0</td>\n",
       "      <td>1</td>\n",
       "      <td>0</td>\n",
       "      <td>0</td>\n",
       "      <td>0</td>\n",
       "      <td>0</td>\n",
       "      <td>0</td>\n",
       "      <td>0</td>\n",
       "      <td>0</td>\n",
       "      <td>0</td>\n",
       "      <td>1</td>\n",
       "      <td>1</td>\n",
       "      <td>0</td>\n",
       "      <td>0</td>\n",
       "      <td>0</td>\n",
       "      <td>0</td>\n",
       "      <td>1</td>\n",
       "      <td>0</td>\n",
       "      <td>0</td>\n",
       "      <td>1</td>\n",
       "      <td>1</td>\n",
       "      <td>0</td>\n",
       "      <td>1</td>\n",
       "      <td>0</td>\n",
       "      <td>1</td>\n",
       "      <td>0</td>\n",
       "      <td>0</td>\n",
       "      <td>1</td>\n",
       "      <td>0</td>\n",
       "      <td>1</td>\n",
       "      <td>1</td>\n",
       "      <td>0</td>\n",
       "      <td>1</td>\n",
       "      <td>0</td>\n",
       "    </tr>\n",
       "    <tr>\n",
       "      <th>1</th>\n",
       "      <td>17</td>\n",
       "      <td>1</td>\n",
       "      <td>1</td>\n",
       "      <td>1</td>\n",
       "      <td>2</td>\n",
       "      <td>0</td>\n",
       "      <td>5</td>\n",
       "      <td>3</td>\n",
       "      <td>3</td>\n",
       "      <td>1</td>\n",
       "      <td>1</td>\n",
       "      <td>3</td>\n",
       "      <td>4</td>\n",
       "      <td>1</td>\n",
       "      <td>0</td>\n",
       "      <td>1</td>\n",
       "      <td>0</td>\n",
       "      <td>0</td>\n",
       "      <td>1</td>\n",
       "      <td>1</td>\n",
       "      <td>0</td>\n",
       "      <td>0</td>\n",
       "      <td>1</td>\n",
       "      <td>1</td>\n",
       "      <td>0</td>\n",
       "      <td>0</td>\n",
       "      <td>0</td>\n",
       "      <td>0</td>\n",
       "      <td>0</td>\n",
       "      <td>0</td>\n",
       "      <td>1</td>\n",
       "      <td>0</td>\n",
       "      <td>0</td>\n",
       "      <td>1</td>\n",
       "      <td>0</td>\n",
       "      <td>0</td>\n",
       "      <td>0</td>\n",
       "      <td>1</td>\n",
       "      <td>0</td>\n",
       "      <td>0</td>\n",
       "      <td>1</td>\n",
       "      <td>0</td>\n",
       "      <td>0</td>\n",
       "      <td>1</td>\n",
       "      <td>1</td>\n",
       "      <td>0</td>\n",
       "      <td>1</td>\n",
       "      <td>0</td>\n",
       "      <td>1</td>\n",
       "      <td>0</td>\n",
       "      <td>0</td>\n",
       "      <td>1</td>\n",
       "      <td>0</td>\n",
       "      <td>1</td>\n",
       "      <td>1</td>\n",
       "      <td>0</td>\n",
       "    </tr>\n",
       "    <tr>\n",
       "      <th>2</th>\n",
       "      <td>15</td>\n",
       "      <td>1</td>\n",
       "      <td>1</td>\n",
       "      <td>1</td>\n",
       "      <td>2</td>\n",
       "      <td>3</td>\n",
       "      <td>4</td>\n",
       "      <td>3</td>\n",
       "      <td>2</td>\n",
       "      <td>2</td>\n",
       "      <td>3</td>\n",
       "      <td>3</td>\n",
       "      <td>10</td>\n",
       "      <td>1</td>\n",
       "      <td>0</td>\n",
       "      <td>1</td>\n",
       "      <td>0</td>\n",
       "      <td>0</td>\n",
       "      <td>1</td>\n",
       "      <td>0</td>\n",
       "      <td>1</td>\n",
       "      <td>0</td>\n",
       "      <td>1</td>\n",
       "      <td>1</td>\n",
       "      <td>0</td>\n",
       "      <td>0</td>\n",
       "      <td>0</td>\n",
       "      <td>0</td>\n",
       "      <td>0</td>\n",
       "      <td>0</td>\n",
       "      <td>1</td>\n",
       "      <td>0</td>\n",
       "      <td>0</td>\n",
       "      <td>0</td>\n",
       "      <td>0</td>\n",
       "      <td>1</td>\n",
       "      <td>0</td>\n",
       "      <td>0</td>\n",
       "      <td>1</td>\n",
       "      <td>0</td>\n",
       "      <td>0</td>\n",
       "      <td>1</td>\n",
       "      <td>1</td>\n",
       "      <td>0</td>\n",
       "      <td>0</td>\n",
       "      <td>1</td>\n",
       "      <td>1</td>\n",
       "      <td>0</td>\n",
       "      <td>0</td>\n",
       "      <td>1</td>\n",
       "      <td>0</td>\n",
       "      <td>1</td>\n",
       "      <td>0</td>\n",
       "      <td>1</td>\n",
       "      <td>1</td>\n",
       "      <td>0</td>\n",
       "    </tr>\n",
       "    <tr>\n",
       "      <th>3</th>\n",
       "      <td>15</td>\n",
       "      <td>4</td>\n",
       "      <td>2</td>\n",
       "      <td>1</td>\n",
       "      <td>3</td>\n",
       "      <td>0</td>\n",
       "      <td>3</td>\n",
       "      <td>2</td>\n",
       "      <td>2</td>\n",
       "      <td>1</td>\n",
       "      <td>1</td>\n",
       "      <td>5</td>\n",
       "      <td>2</td>\n",
       "      <td>1</td>\n",
       "      <td>0</td>\n",
       "      <td>1</td>\n",
       "      <td>0</td>\n",
       "      <td>0</td>\n",
       "      <td>1</td>\n",
       "      <td>1</td>\n",
       "      <td>0</td>\n",
       "      <td>0</td>\n",
       "      <td>1</td>\n",
       "      <td>0</td>\n",
       "      <td>1</td>\n",
       "      <td>0</td>\n",
       "      <td>0</td>\n",
       "      <td>0</td>\n",
       "      <td>0</td>\n",
       "      <td>0</td>\n",
       "      <td>0</td>\n",
       "      <td>1</td>\n",
       "      <td>0</td>\n",
       "      <td>0</td>\n",
       "      <td>1</td>\n",
       "      <td>0</td>\n",
       "      <td>0</td>\n",
       "      <td>0</td>\n",
       "      <td>1</td>\n",
       "      <td>0</td>\n",
       "      <td>1</td>\n",
       "      <td>0</td>\n",
       "      <td>0</td>\n",
       "      <td>1</td>\n",
       "      <td>0</td>\n",
       "      <td>1</td>\n",
       "      <td>0</td>\n",
       "      <td>1</td>\n",
       "      <td>0</td>\n",
       "      <td>1</td>\n",
       "      <td>0</td>\n",
       "      <td>1</td>\n",
       "      <td>0</td>\n",
       "      <td>1</td>\n",
       "      <td>0</td>\n",
       "      <td>1</td>\n",
       "    </tr>\n",
       "    <tr>\n",
       "      <th>4</th>\n",
       "      <td>16</td>\n",
       "      <td>3</td>\n",
       "      <td>3</td>\n",
       "      <td>1</td>\n",
       "      <td>2</td>\n",
       "      <td>0</td>\n",
       "      <td>4</td>\n",
       "      <td>3</td>\n",
       "      <td>2</td>\n",
       "      <td>1</td>\n",
       "      <td>2</td>\n",
       "      <td>5</td>\n",
       "      <td>4</td>\n",
       "      <td>1</td>\n",
       "      <td>0</td>\n",
       "      <td>1</td>\n",
       "      <td>0</td>\n",
       "      <td>0</td>\n",
       "      <td>1</td>\n",
       "      <td>1</td>\n",
       "      <td>0</td>\n",
       "      <td>0</td>\n",
       "      <td>1</td>\n",
       "      <td>0</td>\n",
       "      <td>0</td>\n",
       "      <td>1</td>\n",
       "      <td>0</td>\n",
       "      <td>0</td>\n",
       "      <td>0</td>\n",
       "      <td>0</td>\n",
       "      <td>1</td>\n",
       "      <td>0</td>\n",
       "      <td>0</td>\n",
       "      <td>0</td>\n",
       "      <td>1</td>\n",
       "      <td>0</td>\n",
       "      <td>0</td>\n",
       "      <td>1</td>\n",
       "      <td>0</td>\n",
       "      <td>0</td>\n",
       "      <td>1</td>\n",
       "      <td>0</td>\n",
       "      <td>0</td>\n",
       "      <td>1</td>\n",
       "      <td>0</td>\n",
       "      <td>1</td>\n",
       "      <td>1</td>\n",
       "      <td>0</td>\n",
       "      <td>0</td>\n",
       "      <td>1</td>\n",
       "      <td>0</td>\n",
       "      <td>1</td>\n",
       "      <td>1</td>\n",
       "      <td>0</td>\n",
       "      <td>1</td>\n",
       "      <td>0</td>\n",
       "    </tr>\n",
       "  </tbody>\n",
       "</table>\n",
       "</div>"
      ],
      "text/plain": [
       "   age  Medu  Fedu  traveltime  studytime  failures  famrel  freetime  goout  \\\n",
       "0   18     4     4           2          2         0       4         3      4   \n",
       "1   17     1     1           1          2         0       5         3      3   \n",
       "2   15     1     1           1          2         3       4         3      2   \n",
       "3   15     4     2           1          3         0       3         2      2   \n",
       "4   16     3     3           1          2         0       4         3      2   \n",
       "\n",
       "   Dalc  Walc  health  absences  school_GP  school_MS  sex_F  sex_M  \\\n",
       "0     1     1       3         6          1          0      1      0   \n",
       "1     1     1       3         4          1          0      1      0   \n",
       "2     2     3       3        10          1          0      1      0   \n",
       "3     1     1       5         2          1          0      1      0   \n",
       "4     1     2       5         4          1          0      1      0   \n",
       "\n",
       "   address_R  address_U  famsize_GT3  famsize_LE3  Pstatus_A  Pstatus_T  \\\n",
       "0          0          1            1            0          1          0   \n",
       "1          0          1            1            0          0          1   \n",
       "2          0          1            0            1          0          1   \n",
       "3          0          1            1            0          0          1   \n",
       "4          0          1            1            0          0          1   \n",
       "\n",
       "   Mjob_at_home  Mjob_health  Mjob_other  Mjob_services  Mjob_teacher  \\\n",
       "0             1            0           0              0             0   \n",
       "1             1            0           0              0             0   \n",
       "2             1            0           0              0             0   \n",
       "3             0            1           0              0             0   \n",
       "4             0            0           1              0             0   \n",
       "\n",
       "   Fjob_at_home  Fjob_health  Fjob_other  Fjob_services  Fjob_teacher  \\\n",
       "0             0            0           0              0             1   \n",
       "1             0            0           1              0             0   \n",
       "2             0            0           1              0             0   \n",
       "3             0            0           0              1             0   \n",
       "4             0            0           1              0             0   \n",
       "\n",
       "   reason_course  reason_home  reason_other  reason_reputation  \\\n",
       "0              1            0             0                  0   \n",
       "1              1            0             0                  0   \n",
       "2              0            0             1                  0   \n",
       "3              0            1             0                  0   \n",
       "4              0            1             0                  0   \n",
       "\n",
       "   guardian_father  guardian_mother  guardian_other  schoolsup_no  \\\n",
       "0                0                1               0             0   \n",
       "1                1                0               0             1   \n",
       "2                0                1               0             0   \n",
       "3                0                1               0             1   \n",
       "4                1                0               0             1   \n",
       "\n",
       "   schoolsup_yes  famsup_no  famsup_yes  paid_no  paid_yes  activities_no  \\\n",
       "0              1          1           0        1         0              1   \n",
       "1              0          0           1        1         0              1   \n",
       "2              1          1           0        0         1              1   \n",
       "3              0          0           1        0         1              0   \n",
       "4              0          0           1        0         1              1   \n",
       "\n",
       "   activities_yes  nursery_no  nursery_yes  higher_no  higher_yes  \\\n",
       "0               0           0            1          0           1   \n",
       "1               0           1            0          0           1   \n",
       "2               0           0            1          0           1   \n",
       "3               1           0            1          0           1   \n",
       "4               0           0            1          0           1   \n",
       "\n",
       "   internet_no  internet_yes  romantic_no  romantic_yes  \n",
       "0            1             0            1             0  \n",
       "1            0             1            1             0  \n",
       "2            0             1            1             0  \n",
       "3            0             1            0             1  \n",
       "4            1             0            1             0  "
      ]
     },
     "execution_count": 33,
     "metadata": {},
     "output_type": "execute_result"
    }
   ],
   "source": [
    "# remove target variable\n",
    "X_clean = df.drop('pass', axis=1)\n",
    "XX = pd.get_dummies(X_clean)\n",
    "print(XX.shape)\n",
    "XX.head()"
   ]
  },
  {
   "cell_type": "markdown",
   "metadata": {
    "id": "bjcZbQEKnhS7"
   },
   "source": [
    "# Apply Scaler"
   ]
  },
  {
   "cell_type": "code",
   "execution_count": 10,
   "metadata": {
    "ExecuteTime": {
     "end_time": "2021-09-14T14:46:59.571715Z",
     "start_time": "2021-09-14T14:46:59.485360Z"
    },
    "id": "0q4cP8x2nhS7"
   },
   "outputs": [
    {
     "data": {
      "text/html": [
       "<div>\n",
       "<style scoped>\n",
       "    .dataframe tbody tr th:only-of-type {\n",
       "        vertical-align: middle;\n",
       "    }\n",
       "\n",
       "    .dataframe tbody tr th {\n",
       "        vertical-align: top;\n",
       "    }\n",
       "\n",
       "    .dataframe thead th {\n",
       "        text-align: right;\n",
       "    }\n",
       "</style>\n",
       "<table border=\"1\" class=\"dataframe\">\n",
       "  <thead>\n",
       "    <tr style=\"text-align: right;\">\n",
       "      <th></th>\n",
       "      <th>age</th>\n",
       "      <th>Medu</th>\n",
       "      <th>Fedu</th>\n",
       "      <th>traveltime</th>\n",
       "      <th>studytime</th>\n",
       "      <th>failures</th>\n",
       "      <th>famrel</th>\n",
       "      <th>freetime</th>\n",
       "      <th>goout</th>\n",
       "      <th>Dalc</th>\n",
       "      <th>Walc</th>\n",
       "      <th>health</th>\n",
       "      <th>absences</th>\n",
       "      <th>school_GP</th>\n",
       "      <th>school_MS</th>\n",
       "      <th>sex_F</th>\n",
       "      <th>sex_M</th>\n",
       "      <th>address_R</th>\n",
       "      <th>address_U</th>\n",
       "      <th>famsize_GT3</th>\n",
       "      <th>famsize_LE3</th>\n",
       "      <th>Pstatus_A</th>\n",
       "      <th>Pstatus_T</th>\n",
       "      <th>Mjob_at_home</th>\n",
       "      <th>Mjob_health</th>\n",
       "      <th>Mjob_other</th>\n",
       "      <th>Mjob_services</th>\n",
       "      <th>Mjob_teacher</th>\n",
       "      <th>Fjob_at_home</th>\n",
       "      <th>Fjob_health</th>\n",
       "      <th>Fjob_other</th>\n",
       "      <th>Fjob_services</th>\n",
       "      <th>Fjob_teacher</th>\n",
       "      <th>reason_course</th>\n",
       "      <th>reason_home</th>\n",
       "      <th>reason_other</th>\n",
       "      <th>reason_reputation</th>\n",
       "      <th>guardian_father</th>\n",
       "      <th>guardian_mother</th>\n",
       "      <th>guardian_other</th>\n",
       "      <th>schoolsup_no</th>\n",
       "      <th>schoolsup_yes</th>\n",
       "      <th>famsup_no</th>\n",
       "      <th>famsup_yes</th>\n",
       "      <th>paid_no</th>\n",
       "      <th>paid_yes</th>\n",
       "      <th>activities_no</th>\n",
       "      <th>activities_yes</th>\n",
       "      <th>nursery_no</th>\n",
       "      <th>nursery_yes</th>\n",
       "      <th>higher_no</th>\n",
       "      <th>higher_yes</th>\n",
       "      <th>internet_no</th>\n",
       "      <th>internet_yes</th>\n",
       "      <th>romantic_no</th>\n",
       "      <th>romantic_yes</th>\n",
       "    </tr>\n",
       "  </thead>\n",
       "  <tbody>\n",
       "    <tr>\n",
       "      <th>0</th>\n",
       "      <td>0.428571</td>\n",
       "      <td>1.00</td>\n",
       "      <td>1.00</td>\n",
       "      <td>0.333333</td>\n",
       "      <td>0.333333</td>\n",
       "      <td>0.0</td>\n",
       "      <td>0.75</td>\n",
       "      <td>0.50</td>\n",
       "      <td>0.75</td>\n",
       "      <td>0.00</td>\n",
       "      <td>0.00</td>\n",
       "      <td>0.5</td>\n",
       "      <td>0.080000</td>\n",
       "      <td>1.0</td>\n",
       "      <td>0.0</td>\n",
       "      <td>1.0</td>\n",
       "      <td>0.0</td>\n",
       "      <td>0.0</td>\n",
       "      <td>1.0</td>\n",
       "      <td>1.0</td>\n",
       "      <td>0.0</td>\n",
       "      <td>1.0</td>\n",
       "      <td>0.0</td>\n",
       "      <td>1.0</td>\n",
       "      <td>0.0</td>\n",
       "      <td>0.0</td>\n",
       "      <td>0.0</td>\n",
       "      <td>0.0</td>\n",
       "      <td>0.0</td>\n",
       "      <td>0.0</td>\n",
       "      <td>0.0</td>\n",
       "      <td>0.0</td>\n",
       "      <td>1.0</td>\n",
       "      <td>1.0</td>\n",
       "      <td>0.0</td>\n",
       "      <td>0.0</td>\n",
       "      <td>0.0</td>\n",
       "      <td>0.0</td>\n",
       "      <td>1.0</td>\n",
       "      <td>0.0</td>\n",
       "      <td>0.0</td>\n",
       "      <td>1.0</td>\n",
       "      <td>1.0</td>\n",
       "      <td>0.0</td>\n",
       "      <td>1.0</td>\n",
       "      <td>0.0</td>\n",
       "      <td>1.0</td>\n",
       "      <td>0.0</td>\n",
       "      <td>0.0</td>\n",
       "      <td>1.0</td>\n",
       "      <td>0.0</td>\n",
       "      <td>1.0</td>\n",
       "      <td>1.0</td>\n",
       "      <td>0.0</td>\n",
       "      <td>1.0</td>\n",
       "      <td>0.0</td>\n",
       "    </tr>\n",
       "    <tr>\n",
       "      <th>1</th>\n",
       "      <td>0.285714</td>\n",
       "      <td>0.25</td>\n",
       "      <td>0.25</td>\n",
       "      <td>0.000000</td>\n",
       "      <td>0.333333</td>\n",
       "      <td>0.0</td>\n",
       "      <td>1.00</td>\n",
       "      <td>0.50</td>\n",
       "      <td>0.50</td>\n",
       "      <td>0.00</td>\n",
       "      <td>0.00</td>\n",
       "      <td>0.5</td>\n",
       "      <td>0.053333</td>\n",
       "      <td>1.0</td>\n",
       "      <td>0.0</td>\n",
       "      <td>1.0</td>\n",
       "      <td>0.0</td>\n",
       "      <td>0.0</td>\n",
       "      <td>1.0</td>\n",
       "      <td>1.0</td>\n",
       "      <td>0.0</td>\n",
       "      <td>0.0</td>\n",
       "      <td>1.0</td>\n",
       "      <td>1.0</td>\n",
       "      <td>0.0</td>\n",
       "      <td>0.0</td>\n",
       "      <td>0.0</td>\n",
       "      <td>0.0</td>\n",
       "      <td>0.0</td>\n",
       "      <td>0.0</td>\n",
       "      <td>1.0</td>\n",
       "      <td>0.0</td>\n",
       "      <td>0.0</td>\n",
       "      <td>1.0</td>\n",
       "      <td>0.0</td>\n",
       "      <td>0.0</td>\n",
       "      <td>0.0</td>\n",
       "      <td>1.0</td>\n",
       "      <td>0.0</td>\n",
       "      <td>0.0</td>\n",
       "      <td>1.0</td>\n",
       "      <td>0.0</td>\n",
       "      <td>0.0</td>\n",
       "      <td>1.0</td>\n",
       "      <td>1.0</td>\n",
       "      <td>0.0</td>\n",
       "      <td>1.0</td>\n",
       "      <td>0.0</td>\n",
       "      <td>1.0</td>\n",
       "      <td>0.0</td>\n",
       "      <td>0.0</td>\n",
       "      <td>1.0</td>\n",
       "      <td>0.0</td>\n",
       "      <td>1.0</td>\n",
       "      <td>1.0</td>\n",
       "      <td>0.0</td>\n",
       "    </tr>\n",
       "    <tr>\n",
       "      <th>2</th>\n",
       "      <td>0.000000</td>\n",
       "      <td>0.25</td>\n",
       "      <td>0.25</td>\n",
       "      <td>0.000000</td>\n",
       "      <td>0.333333</td>\n",
       "      <td>1.0</td>\n",
       "      <td>0.75</td>\n",
       "      <td>0.50</td>\n",
       "      <td>0.25</td>\n",
       "      <td>0.25</td>\n",
       "      <td>0.50</td>\n",
       "      <td>0.5</td>\n",
       "      <td>0.133333</td>\n",
       "      <td>1.0</td>\n",
       "      <td>0.0</td>\n",
       "      <td>1.0</td>\n",
       "      <td>0.0</td>\n",
       "      <td>0.0</td>\n",
       "      <td>1.0</td>\n",
       "      <td>0.0</td>\n",
       "      <td>1.0</td>\n",
       "      <td>0.0</td>\n",
       "      <td>1.0</td>\n",
       "      <td>1.0</td>\n",
       "      <td>0.0</td>\n",
       "      <td>0.0</td>\n",
       "      <td>0.0</td>\n",
       "      <td>0.0</td>\n",
       "      <td>0.0</td>\n",
       "      <td>0.0</td>\n",
       "      <td>1.0</td>\n",
       "      <td>0.0</td>\n",
       "      <td>0.0</td>\n",
       "      <td>0.0</td>\n",
       "      <td>0.0</td>\n",
       "      <td>1.0</td>\n",
       "      <td>0.0</td>\n",
       "      <td>0.0</td>\n",
       "      <td>1.0</td>\n",
       "      <td>0.0</td>\n",
       "      <td>0.0</td>\n",
       "      <td>1.0</td>\n",
       "      <td>1.0</td>\n",
       "      <td>0.0</td>\n",
       "      <td>0.0</td>\n",
       "      <td>1.0</td>\n",
       "      <td>1.0</td>\n",
       "      <td>0.0</td>\n",
       "      <td>0.0</td>\n",
       "      <td>1.0</td>\n",
       "      <td>0.0</td>\n",
       "      <td>1.0</td>\n",
       "      <td>0.0</td>\n",
       "      <td>1.0</td>\n",
       "      <td>1.0</td>\n",
       "      <td>0.0</td>\n",
       "    </tr>\n",
       "    <tr>\n",
       "      <th>3</th>\n",
       "      <td>0.000000</td>\n",
       "      <td>1.00</td>\n",
       "      <td>0.50</td>\n",
       "      <td>0.000000</td>\n",
       "      <td>0.666667</td>\n",
       "      <td>0.0</td>\n",
       "      <td>0.50</td>\n",
       "      <td>0.25</td>\n",
       "      <td>0.25</td>\n",
       "      <td>0.00</td>\n",
       "      <td>0.00</td>\n",
       "      <td>1.0</td>\n",
       "      <td>0.026667</td>\n",
       "      <td>1.0</td>\n",
       "      <td>0.0</td>\n",
       "      <td>1.0</td>\n",
       "      <td>0.0</td>\n",
       "      <td>0.0</td>\n",
       "      <td>1.0</td>\n",
       "      <td>1.0</td>\n",
       "      <td>0.0</td>\n",
       "      <td>0.0</td>\n",
       "      <td>1.0</td>\n",
       "      <td>0.0</td>\n",
       "      <td>1.0</td>\n",
       "      <td>0.0</td>\n",
       "      <td>0.0</td>\n",
       "      <td>0.0</td>\n",
       "      <td>0.0</td>\n",
       "      <td>0.0</td>\n",
       "      <td>0.0</td>\n",
       "      <td>1.0</td>\n",
       "      <td>0.0</td>\n",
       "      <td>0.0</td>\n",
       "      <td>1.0</td>\n",
       "      <td>0.0</td>\n",
       "      <td>0.0</td>\n",
       "      <td>0.0</td>\n",
       "      <td>1.0</td>\n",
       "      <td>0.0</td>\n",
       "      <td>1.0</td>\n",
       "      <td>0.0</td>\n",
       "      <td>0.0</td>\n",
       "      <td>1.0</td>\n",
       "      <td>0.0</td>\n",
       "      <td>1.0</td>\n",
       "      <td>0.0</td>\n",
       "      <td>1.0</td>\n",
       "      <td>0.0</td>\n",
       "      <td>1.0</td>\n",
       "      <td>0.0</td>\n",
       "      <td>1.0</td>\n",
       "      <td>0.0</td>\n",
       "      <td>1.0</td>\n",
       "      <td>0.0</td>\n",
       "      <td>1.0</td>\n",
       "    </tr>\n",
       "    <tr>\n",
       "      <th>4</th>\n",
       "      <td>0.142857</td>\n",
       "      <td>0.75</td>\n",
       "      <td>0.75</td>\n",
       "      <td>0.000000</td>\n",
       "      <td>0.333333</td>\n",
       "      <td>0.0</td>\n",
       "      <td>0.75</td>\n",
       "      <td>0.50</td>\n",
       "      <td>0.25</td>\n",
       "      <td>0.00</td>\n",
       "      <td>0.25</td>\n",
       "      <td>1.0</td>\n",
       "      <td>0.053333</td>\n",
       "      <td>1.0</td>\n",
       "      <td>0.0</td>\n",
       "      <td>1.0</td>\n",
       "      <td>0.0</td>\n",
       "      <td>0.0</td>\n",
       "      <td>1.0</td>\n",
       "      <td>1.0</td>\n",
       "      <td>0.0</td>\n",
       "      <td>0.0</td>\n",
       "      <td>1.0</td>\n",
       "      <td>0.0</td>\n",
       "      <td>0.0</td>\n",
       "      <td>1.0</td>\n",
       "      <td>0.0</td>\n",
       "      <td>0.0</td>\n",
       "      <td>0.0</td>\n",
       "      <td>0.0</td>\n",
       "      <td>1.0</td>\n",
       "      <td>0.0</td>\n",
       "      <td>0.0</td>\n",
       "      <td>0.0</td>\n",
       "      <td>1.0</td>\n",
       "      <td>0.0</td>\n",
       "      <td>0.0</td>\n",
       "      <td>1.0</td>\n",
       "      <td>0.0</td>\n",
       "      <td>0.0</td>\n",
       "      <td>1.0</td>\n",
       "      <td>0.0</td>\n",
       "      <td>0.0</td>\n",
       "      <td>1.0</td>\n",
       "      <td>0.0</td>\n",
       "      <td>1.0</td>\n",
       "      <td>1.0</td>\n",
       "      <td>0.0</td>\n",
       "      <td>0.0</td>\n",
       "      <td>1.0</td>\n",
       "      <td>0.0</td>\n",
       "      <td>1.0</td>\n",
       "      <td>1.0</td>\n",
       "      <td>0.0</td>\n",
       "      <td>1.0</td>\n",
       "      <td>0.0</td>\n",
       "    </tr>\n",
       "  </tbody>\n",
       "</table>\n",
       "</div>"
      ],
      "text/plain": [
       "        age  Medu  Fedu  traveltime  studytime  failures  famrel  freetime  \\\n",
       "0  0.428571  1.00  1.00    0.333333   0.333333       0.0    0.75      0.50   \n",
       "1  0.285714  0.25  0.25    0.000000   0.333333       0.0    1.00      0.50   \n",
       "2  0.000000  0.25  0.25    0.000000   0.333333       1.0    0.75      0.50   \n",
       "3  0.000000  1.00  0.50    0.000000   0.666667       0.0    0.50      0.25   \n",
       "4  0.142857  0.75  0.75    0.000000   0.333333       0.0    0.75      0.50   \n",
       "\n",
       "   goout  Dalc  Walc  health  absences  school_GP  school_MS  sex_F  sex_M  \\\n",
       "0   0.75  0.00  0.00     0.5  0.080000        1.0        0.0    1.0    0.0   \n",
       "1   0.50  0.00  0.00     0.5  0.053333        1.0        0.0    1.0    0.0   \n",
       "2   0.25  0.25  0.50     0.5  0.133333        1.0        0.0    1.0    0.0   \n",
       "3   0.25  0.00  0.00     1.0  0.026667        1.0        0.0    1.0    0.0   \n",
       "4   0.25  0.00  0.25     1.0  0.053333        1.0        0.0    1.0    0.0   \n",
       "\n",
       "   address_R  address_U  famsize_GT3  famsize_LE3  Pstatus_A  Pstatus_T  \\\n",
       "0        0.0        1.0          1.0          0.0        1.0        0.0   \n",
       "1        0.0        1.0          1.0          0.0        0.0        1.0   \n",
       "2        0.0        1.0          0.0          1.0        0.0        1.0   \n",
       "3        0.0        1.0          1.0          0.0        0.0        1.0   \n",
       "4        0.0        1.0          1.0          0.0        0.0        1.0   \n",
       "\n",
       "   Mjob_at_home  Mjob_health  Mjob_other  Mjob_services  Mjob_teacher  \\\n",
       "0           1.0          0.0         0.0            0.0           0.0   \n",
       "1           1.0          0.0         0.0            0.0           0.0   \n",
       "2           1.0          0.0         0.0            0.0           0.0   \n",
       "3           0.0          1.0         0.0            0.0           0.0   \n",
       "4           0.0          0.0         1.0            0.0           0.0   \n",
       "\n",
       "   Fjob_at_home  Fjob_health  Fjob_other  Fjob_services  Fjob_teacher  \\\n",
       "0           0.0          0.0         0.0            0.0           1.0   \n",
       "1           0.0          0.0         1.0            0.0           0.0   \n",
       "2           0.0          0.0         1.0            0.0           0.0   \n",
       "3           0.0          0.0         0.0            1.0           0.0   \n",
       "4           0.0          0.0         1.0            0.0           0.0   \n",
       "\n",
       "   reason_course  reason_home  reason_other  reason_reputation  \\\n",
       "0            1.0          0.0           0.0                0.0   \n",
       "1            1.0          0.0           0.0                0.0   \n",
       "2            0.0          0.0           1.0                0.0   \n",
       "3            0.0          1.0           0.0                0.0   \n",
       "4            0.0          1.0           0.0                0.0   \n",
       "\n",
       "   guardian_father  guardian_mother  guardian_other  schoolsup_no  \\\n",
       "0              0.0              1.0             0.0           0.0   \n",
       "1              1.0              0.0             0.0           1.0   \n",
       "2              0.0              1.0             0.0           0.0   \n",
       "3              0.0              1.0             0.0           1.0   \n",
       "4              1.0              0.0             0.0           1.0   \n",
       "\n",
       "   schoolsup_yes  famsup_no  famsup_yes  paid_no  paid_yes  activities_no  \\\n",
       "0            1.0        1.0         0.0      1.0       0.0            1.0   \n",
       "1            0.0        0.0         1.0      1.0       0.0            1.0   \n",
       "2            1.0        1.0         0.0      0.0       1.0            1.0   \n",
       "3            0.0        0.0         1.0      0.0       1.0            0.0   \n",
       "4            0.0        0.0         1.0      0.0       1.0            1.0   \n",
       "\n",
       "   activities_yes  nursery_no  nursery_yes  higher_no  higher_yes  \\\n",
       "0             0.0         0.0          1.0        0.0         1.0   \n",
       "1             0.0         1.0          0.0        0.0         1.0   \n",
       "2             0.0         0.0          1.0        0.0         1.0   \n",
       "3             1.0         0.0          1.0        0.0         1.0   \n",
       "4             0.0         0.0          1.0        0.0         1.0   \n",
       "\n",
       "   internet_no  internet_yes  romantic_no  romantic_yes  \n",
       "0          1.0           0.0          1.0           0.0  \n",
       "1          0.0           1.0          1.0           0.0  \n",
       "2          0.0           1.0          1.0           0.0  \n",
       "3          0.0           1.0          0.0           1.0  \n",
       "4          1.0           0.0          1.0           0.0  "
      ]
     },
     "execution_count": 10,
     "metadata": {},
     "output_type": "execute_result"
    }
   ],
   "source": [
    "# get column names\n",
    "XX_column_names = XX.columns\n",
    "\n",
    "# scale\n",
    "from sklearn.preprocessing import MinMaxScaler\n",
    "sscaler = MinMaxScaler()\n",
    "XX = sscaler.fit_transform(XX.astype(np.float))\n",
    "\n",
    "# return column names\n",
    "XX_df = pd.DataFrame(data = XX,columns = XX_column_names)\n",
    "XX_df.head()"
   ]
  },
  {
   "cell_type": "markdown",
   "metadata": {},
   "source": [
    "# Gradient Boosting Method"
   ]
  },
  {
   "cell_type": "markdown",
   "metadata": {},
   "source": [
    "Information on the model:\n",
    "- Weak learner is a shallow decision tree\n",
    "- Any differentiable loss function can be used -- more flexible\n",
    "- Uses residuals to identify difficult observations"
   ]
  },
  {
   "cell_type": "code",
   "execution_count": 11,
   "metadata": {
    "ExecuteTime": {
     "end_time": "2021-09-14T14:47:06.790060Z",
     "start_time": "2021-09-14T14:47:06.784997Z"
    }
   },
   "outputs": [],
   "source": [
    "# get features and target\n",
    "X = XX_df\n",
    "y = df['pass']"
   ]
  },
  {
   "cell_type": "code",
   "execution_count": 12,
   "metadata": {
    "ExecuteTime": {
     "end_time": "2021-09-14T14:49:18.629305Z",
     "start_time": "2021-09-14T14:47:08.970980Z"
    },
    "scrolled": true
   },
   "outputs": [
    {
     "name": "stdout",
     "output_type": "stream",
     "text": [
      "trial  0 , n_estimators 10\n",
      "trial  0 , n_estimators 50\n",
      "trial  0 , n_estimators 100\n",
      "trial  0 , n_estimators 500\n",
      "trial  0 , n_estimators 1000\n",
      "trial  0 , n_estimators 5000\n",
      "trial  1 , n_estimators 10\n",
      "trial  1 , n_estimators 50\n",
      "trial  1 , n_estimators 100\n",
      "trial  1 , n_estimators 500\n",
      "trial  1 , n_estimators 1000\n",
      "trial  1 , n_estimators 5000\n",
      "trial  2 , n_estimators 10\n",
      "trial  2 , n_estimators 50\n",
      "trial  2 , n_estimators 100\n",
      "trial  2 , n_estimators 500\n",
      "trial  2 , n_estimators 1000\n",
      "trial  2 , n_estimators 5000\n",
      "trial  3 , n_estimators 10\n",
      "trial  3 , n_estimators 50\n",
      "trial  3 , n_estimators 100\n",
      "trial  3 , n_estimators 500\n",
      "trial  3 , n_estimators 1000\n",
      "trial  3 , n_estimators 5000\n",
      "trial  4 , n_estimators 10\n",
      "trial  4 , n_estimators 50\n",
      "trial  4 , n_estimators 100\n",
      "trial  4 , n_estimators 500\n",
      "trial  4 , n_estimators 1000\n",
      "trial  4 , n_estimators 5000\n",
      "trial  5 , n_estimators 10\n",
      "trial  5 , n_estimators 50\n",
      "trial  5 , n_estimators 100\n",
      "trial  5 , n_estimators 500\n",
      "trial  5 , n_estimators 1000\n",
      "trial  5 , n_estimators 5000\n",
      "trial  6 , n_estimators 10\n",
      "trial  6 , n_estimators 50\n",
      "trial  6 , n_estimators 100\n",
      "trial  6 , n_estimators 500\n",
      "trial  6 , n_estimators 1000\n",
      "trial  6 , n_estimators 5000\n",
      "trial  7 , n_estimators 10\n",
      "trial  7 , n_estimators 50\n",
      "trial  7 , n_estimators 100\n",
      "trial  7 , n_estimators 500\n",
      "trial  7 , n_estimators 1000\n",
      "trial  7 , n_estimators 5000\n",
      "trial  8 , n_estimators 10\n",
      "trial  8 , n_estimators 50\n",
      "trial  8 , n_estimators 100\n",
      "trial  8 , n_estimators 500\n",
      "trial  8 , n_estimators 1000\n",
      "trial  8 , n_estimators 5000\n",
      "trial  9 , n_estimators 10\n",
      "trial  9 , n_estimators 50\n",
      "trial  9 , n_estimators 100\n",
      "trial  9 , n_estimators 500\n",
      "trial  9 , n_estimators 1000\n",
      "trial  9 , n_estimators 5000\n",
      "trial  10 , n_estimators 10\n",
      "trial  10 , n_estimators 50\n",
      "trial  10 , n_estimators 100\n",
      "trial  10 , n_estimators 500\n",
      "trial  10 , n_estimators 1000\n",
      "trial  10 , n_estimators 5000\n",
      "trial  11 , n_estimators 10\n",
      "trial  11 , n_estimators 50\n",
      "trial  11 , n_estimators 100\n",
      "trial  11 , n_estimators 500\n",
      "trial  11 , n_estimators 1000\n",
      "trial  11 , n_estimators 5000\n",
      "trial  12 , n_estimators 10\n",
      "trial  12 , n_estimators 50\n",
      "trial  12 , n_estimators 100\n",
      "trial  12 , n_estimators 500\n",
      "trial  12 , n_estimators 1000\n",
      "trial  12 , n_estimators 5000\n",
      "trial  13 , n_estimators 10\n",
      "trial  13 , n_estimators 50\n",
      "trial  13 , n_estimators 100\n",
      "trial  13 , n_estimators 500\n",
      "trial  13 , n_estimators 1000\n",
      "trial  13 , n_estimators 5000\n",
      "trial  14 , n_estimators 10\n",
      "trial  14 , n_estimators 50\n",
      "trial  14 , n_estimators 100\n",
      "trial  14 , n_estimators 500\n",
      "trial  14 , n_estimators 1000\n",
      "trial  14 , n_estimators 5000\n",
      "trial  15 , n_estimators 10\n",
      "trial  15 , n_estimators 50\n",
      "trial  15 , n_estimators 100\n",
      "trial  15 , n_estimators 500\n",
      "trial  15 , n_estimators 1000\n",
      "trial  15 , n_estimators 5000\n",
      "trial  16 , n_estimators 10\n",
      "trial  16 , n_estimators 50\n",
      "trial  16 , n_estimators 100\n",
      "trial  16 , n_estimators 500\n",
      "trial  16 , n_estimators 1000\n",
      "trial  16 , n_estimators 5000\n",
      "trial  17 , n_estimators 10\n",
      "trial  17 , n_estimators 50\n",
      "trial  17 , n_estimators 100\n",
      "trial  17 , n_estimators 500\n",
      "trial  17 , n_estimators 1000\n",
      "trial  17 , n_estimators 5000\n",
      "trial  18 , n_estimators 10\n",
      "trial  18 , n_estimators 50\n",
      "trial  18 , n_estimators 100\n",
      "trial  18 , n_estimators 500\n",
      "trial  18 , n_estimators 1000\n",
      "trial  18 , n_estimators 5000\n",
      "trial  19 , n_estimators 10\n",
      "trial  19 , n_estimators 50\n",
      "trial  19 , n_estimators 100\n",
      "trial  19 , n_estimators 500\n",
      "trial  19 , n_estimators 1000\n",
      "trial  19 , n_estimators 5000\n"
     ]
    },
    {
     "data": {
      "image/png": "[encoded data removed]",
      "text/plain": [
       "<Figure size 360x1008 with 1 Axes>"
      ]
     },
     "metadata": {
      "needs_background": "light"
     },
     "output_type": "display_data"
    }
   ],
   "source": [
    "# run the model\n",
    "Number_trials=20\n",
    "\n",
    "n_estimators_tuning=[10, 50, 100, 500, 1000, 5000]\n",
    "score_train = []\n",
    "score_test = []\n",
    "weighted_coefs=[]\n",
    "\n",
    "start_time = time.time()\n",
    "for seed in range(Number_trials):\n",
    "    training_accuracy = []  \n",
    "    test_accuracy = []\n",
    "    X_train, X_test, y_train, y_test = train_test_split(X, y, test_size=0.25, random_state=seed)\n",
    "    for n_estimators_run in n_estimators_tuning:\n",
    "        print('trial ', seed, ', n_estimators', n_estimators_run)\n",
    "        gbc = GradientBoostingClassifier(n_estimators=n_estimators_run,max_depth=3, max_features=0.8)\n",
    "        gbc.fit(X_train, y_train)\n",
    "        training_accuracy.append(gbc.score(X_train, y_train))\n",
    "        test_accuracy.append(gbc.score(X_test, y_test))\n",
    "\n",
    "        coefs = gbc.feature_importances_\n",
    "        # appends every time a new model is made\n",
    "        weighted_coefs.append(coefs)\n",
    "\n",
    "    score_train.append(training_accuracy)\n",
    "    score_test.append(test_accuracy)\n",
    "\n",
    "# get the mean of the weighted coefficients over all the trials\n",
    "mean_coefs=np.mean(weighted_coefs, axis=0)        \n",
    "# score : list of mean score of each hyperparameter, across all trials\n",
    "score = np.mean(score_test, axis=0)\n",
    "\n",
    "top_predictor=X.columns[np.argmax(np.abs(mean_coefs))]\n",
    "abs_mean_coefs = np.abs(mean_coefs[:])\n",
    "coefs_count = len(abs_mean_coefs)\n",
    "\n",
    "fig, ax = plt.subplots(figsize=(5,14))\n",
    "ax.barh(np.arange(coefs_count), sorted(abs_mean_coefs))\n",
    "ax.set_yticks(np.arange(coefs_count))\n",
    "ax.set_yticklabels(X.columns[np.argsort(abs_mean_coefs)])\n",
    "\n",
    "run_time = (time.time() - start_time)"
   ]
  },
  {
   "cell_type": "code",
   "execution_count": 13,
   "metadata": {
    "ExecuteTime": {
     "end_time": "2021-09-14T14:49:18.638869Z",
     "start_time": "2021-09-14T14:49:18.632401Z"
    }
   },
   "outputs": [
    {
     "name": "stdout",
     "output_type": "stream",
     "text": [
      "['Gradient Boosting Method', 0.6323232323232324, 'n_estimators = 1000', 'failures', 128.75298619270325]\n"
     ]
    }
   ],
   "source": [
    "# store results\n",
    "results_gbm = [\n",
    "    'Gradient Boosting Method', np.amax(score),\n",
    "    'n_estimators = {0}'.format(n_estimators_tuning[np.argmax(score)]),\n",
    "    top_predictor,run_time]\n",
    "\n",
    "print(results_gbm)"
   ]
  },
  {
   "cell_type": "markdown",
   "metadata": {},
   "source": [
    "# ADABoost\n",
    "Information on the model:\n",
    "- weak learner is a decision stump\n",
    "- exponential loss function\n",
    "- assigns weights to observations and to each new classifier -- more interpretable"
   ]
  },
  {
   "cell_type": "code",
   "execution_count": 14,
   "metadata": {
    "ExecuteTime": {
     "end_time": "2021-09-14T14:53:38.308920Z",
     "start_time": "2021-09-14T14:49:18.642726Z"
    },
    "scrolled": true
   },
   "outputs": [
    {
     "name": "stdout",
     "output_type": "stream",
     "text": [
      "trial  0 , n_estimators 10\n",
      "trial  0 , n_estimators 50\n",
      "trial  0 , n_estimators 100\n",
      "trial  0 , n_estimators 500\n",
      "trial  0 , n_estimators 1000\n",
      "trial  0 , n_estimators 5000\n",
      "trial  1 , n_estimators 10\n",
      "trial  1 , n_estimators 50\n",
      "trial  1 , n_estimators 100\n",
      "trial  1 , n_estimators 500\n",
      "trial  1 , n_estimators 1000\n",
      "trial  1 , n_estimators 5000\n",
      "trial  2 , n_estimators 10\n",
      "trial  2 , n_estimators 50\n",
      "trial  2 , n_estimators 100\n",
      "trial  2 , n_estimators 500\n",
      "trial  2 , n_estimators 1000\n",
      "trial  2 , n_estimators 5000\n",
      "trial  3 , n_estimators 10\n",
      "trial  3 , n_estimators 50\n",
      "trial  3 , n_estimators 100\n",
      "trial  3 , n_estimators 500\n",
      "trial  3 , n_estimators 1000\n",
      "trial  3 , n_estimators 5000\n",
      "trial  4 , n_estimators 10\n",
      "trial  4 , n_estimators 50\n",
      "trial  4 , n_estimators 100\n",
      "trial  4 , n_estimators 500\n",
      "trial  4 , n_estimators 1000\n",
      "trial  4 , n_estimators 5000\n",
      "trial  5 , n_estimators 10\n",
      "trial  5 , n_estimators 50\n",
      "trial  5 , n_estimators 100\n",
      "trial  5 , n_estimators 500\n",
      "trial  5 , n_estimators 1000\n",
      "trial  5 , n_estimators 5000\n",
      "trial  6 , n_estimators 10\n",
      "trial  6 , n_estimators 50\n",
      "trial  6 , n_estimators 100\n",
      "trial  6 , n_estimators 500\n",
      "trial  6 , n_estimators 1000\n",
      "trial  6 , n_estimators 5000\n",
      "trial  7 , n_estimators 10\n",
      "trial  7 , n_estimators 50\n",
      "trial  7 , n_estimators 100\n",
      "trial  7 , n_estimators 500\n",
      "trial  7 , n_estimators 1000\n",
      "trial  7 , n_estimators 5000\n",
      "trial  8 , n_estimators 10\n",
      "trial  8 , n_estimators 50\n",
      "trial  8 , n_estimators 100\n",
      "trial  8 , n_estimators 500\n",
      "trial  8 , n_estimators 1000\n",
      "trial  8 , n_estimators 5000\n",
      "trial  9 , n_estimators 10\n",
      "trial  9 , n_estimators 50\n",
      "trial  9 , n_estimators 100\n",
      "trial  9 , n_estimators 500\n",
      "trial  9 , n_estimators 1000\n",
      "trial  9 , n_estimators 5000\n",
      "trial  10 , n_estimators 10\n",
      "trial  10 , n_estimators 50\n",
      "trial  10 , n_estimators 100\n",
      "trial  10 , n_estimators 500\n",
      "trial  10 , n_estimators 1000\n",
      "trial  10 , n_estimators 5000\n",
      "trial  11 , n_estimators 10\n",
      "trial  11 , n_estimators 50\n",
      "trial  11 , n_estimators 100\n",
      "trial  11 , n_estimators 500\n",
      "trial  11 , n_estimators 1000\n",
      "trial  11 , n_estimators 5000\n",
      "trial  12 , n_estimators 10\n",
      "trial  12 , n_estimators 50\n",
      "trial  12 , n_estimators 100\n",
      "trial  12 , n_estimators 500\n",
      "trial  12 , n_estimators 1000\n",
      "trial  12 , n_estimators 5000\n",
      "trial  13 , n_estimators 10\n",
      "trial  13 , n_estimators 50\n",
      "trial  13 , n_estimators 100\n",
      "trial  13 , n_estimators 500\n",
      "trial  13 , n_estimators 1000\n",
      "trial  13 , n_estimators 5000\n",
      "trial  14 , n_estimators 10\n",
      "trial  14 , n_estimators 50\n",
      "trial  14 , n_estimators 100\n",
      "trial  14 , n_estimators 500\n",
      "trial  14 , n_estimators 1000\n",
      "trial  14 , n_estimators 5000\n",
      "trial  15 , n_estimators 10\n",
      "trial  15 , n_estimators 50\n",
      "trial  15 , n_estimators 100\n",
      "trial  15 , n_estimators 500\n",
      "trial  15 , n_estimators 1000\n",
      "trial  15 , n_estimators 5000\n",
      "trial  16 , n_estimators 10\n",
      "trial  16 , n_estimators 50\n",
      "trial  16 , n_estimators 100\n",
      "trial  16 , n_estimators 500\n",
      "trial  16 , n_estimators 1000\n",
      "trial  16 , n_estimators 5000\n",
      "trial  17 , n_estimators 10\n",
      "trial  17 , n_estimators 50\n",
      "trial  17 , n_estimators 100\n",
      "trial  17 , n_estimators 500\n",
      "trial  17 , n_estimators 1000\n",
      "trial  17 , n_estimators 5000\n",
      "trial  18 , n_estimators 10\n",
      "trial  18 , n_estimators 50\n",
      "trial  18 , n_estimators 100\n",
      "trial  18 , n_estimators 500\n",
      "trial  18 , n_estimators 1000\n",
      "trial  18 , n_estimators 5000\n",
      "trial  19 , n_estimators 10\n",
      "trial  19 , n_estimators 50\n",
      "trial  19 , n_estimators 100\n",
      "trial  19 , n_estimators 500\n",
      "trial  19 , n_estimators 1000\n",
      "trial  19 , n_estimators 5000\n"
     ]
    },
    {
     "data": {
      "image/png": "[encoded data removed]",
      "text/plain": [
       "<Figure size 360x1008 with 1 Axes>"
      ]
     },
     "metadata": {
      "needs_background": "light"
     },
     "output_type": "display_data"
    }
   ],
   "source": [
    "# run the model\n",
    "n_estimators_tuning=[10, 50, 100, 500, 1000, 5000]\n",
    "score_train = []\n",
    "score_test = []\n",
    "weighted_coefs=[]\n",
    "\n",
    "start_time = time.time()\n",
    "for seed in range(Number_trials):\n",
    "    training_accuracy = []  \n",
    "    test_accuracy = []\n",
    "    X_train, X_test, y_train, y_test = train_test_split(X, y, test_size=0.25, random_state=seed)\n",
    "    for n_estimators_run in n_estimators_tuning:\n",
    "        print('trial ', seed, ', n_estimators', n_estimators_run)\n",
    "        ada = AdaBoostClassifier(n_estimators=n_estimators_run)\n",
    "        ada.fit(X_train, y_train)\n",
    "        training_accuracy.append(ada.score(X_train, y_train))\n",
    "        test_accuracy.append(ada.score(X_test, y_test))\n",
    "\n",
    "        coefs = ada.feature_importances_\n",
    "        # appends every time a new model is made\n",
    "        weighted_coefs.append(coefs)\n",
    "\n",
    "    score_train.append(training_accuracy)\n",
    "    score_test.append(test_accuracy)\n",
    "\n",
    "# get the mean of the weighted coefficients over all the trials\n",
    "mean_coefs=np.mean(weighted_coefs, axis=0)        \n",
    "# score : list of mean score of each hyperparameter, across all trials\n",
    "score = np.mean(score_test, axis=0)\n",
    "\n",
    "top_predictor=X.columns[np.argmax(np.abs(mean_coefs))]\n",
    "abs_mean_coefs = np.abs(mean_coefs[:])\n",
    "coefs_count = len(abs_mean_coefs)\n",
    "\n",
    "fig, ax = plt.subplots(figsize=(5,14))\n",
    "ax.barh(np.arange(coefs_count), sorted(abs_mean_coefs))\n",
    "ax.set_yticks(np.arange(coefs_count))\n",
    "ax.set_yticklabels(X.columns[np.argsort(abs_mean_coefs)])\n",
    "\n",
    "run_time = (time.time() - start_time)"
   ]
  },
  {
   "cell_type": "code",
   "execution_count": 15,
   "metadata": {
    "ExecuteTime": {
     "end_time": "2021-09-14T14:53:38.316194Z",
     "start_time": "2021-09-14T14:53:38.311265Z"
    }
   },
   "outputs": [
    {
     "name": "stdout",
     "output_type": "stream",
     "text": [
      "['Adaptive Boosting Method', 0.6262626262626262, 'n_estimators = 50', 'absences', 258.8711199760437]\n"
     ]
    }
   ],
   "source": [
    "# store results\n",
    "results_ada = [\n",
    "    'Adaptive Boosting Method', np.amax(score),\n",
    "    'n_estimators = {0}'.format(n_estimators_tuning[np.argmax(score)]),\n",
    "    top_predictor,run_time]\n",
    "\n",
    "print(results_ada)"
   ]
  },
  {
   "cell_type": "markdown",
   "metadata": {},
   "source": [
    "# Results and Discussion"
   ]
  },
  {
   "cell_type": "code",
   "execution_count": 16,
   "metadata": {
    "ExecuteTime": {
     "end_time": "2021-09-14T14:56:18.457416Z",
     "start_time": "2021-09-14T14:56:18.417438Z"
    },
    "colab": {
     "base_uri": "https://localhost:8080/"
    },
    "executionInfo": {
     "elapsed": 9,
     "status": "ok",
     "timestamp": 1629694667798,
     "user": {
      "displayName": "Christopher Monterola",
      "photoUrl": "https://lh3.googleusercontent.com/a-/AOh14GiyxV9CUZD54GBpsQkscS6VRBjebHtFASKcOq-_Lw=s64",
      "userId": "07920169693232563668"
     },
     "user_tz": -480
    },
    "id": "aDNOjoJtnhS_",
    "outputId": "2248e2af-2268-4410-aec0-3c106764e658"
   },
   "outputs": [
    {
     "data": {
      "text/html": [
       "<div>\n",
       "<style scoped>\n",
       "    .dataframe tbody tr th:only-of-type {\n",
       "        vertical-align: middle;\n",
       "    }\n",
       "\n",
       "    .dataframe tbody tr th {\n",
       "        vertical-align: top;\n",
       "    }\n",
       "\n",
       "    .dataframe thead th {\n",
       "        text-align: right;\n",
       "    }\n",
       "</style>\n",
       "<table border=\"1\" class=\"dataframe\">\n",
       "  <thead>\n",
       "    <tr style=\"text-align: right;\">\n",
       "      <th></th>\n",
       "      <th>Machine Learning Method</th>\n",
       "      <th>Test Accuracy</th>\n",
       "      <th>Best Parameter</th>\n",
       "      <th>Top Predictor Variable</th>\n",
       "      <th>Run Time</th>\n",
       "    </tr>\n",
       "  </thead>\n",
       "  <tbody>\n",
       "    <tr>\n",
       "      <th>0</th>\n",
       "      <td>Gradient Boosting Method</td>\n",
       "      <td>0.632323</td>\n",
       "      <td>n_estimators = 1000</td>\n",
       "      <td>failures</td>\n",
       "      <td>128.752986</td>\n",
       "    </tr>\n",
       "    <tr>\n",
       "      <th>1</th>\n",
       "      <td>Adaptive Boosting Method</td>\n",
       "      <td>0.626263</td>\n",
       "      <td>n_estimators = 50</td>\n",
       "      <td>absences</td>\n",
       "      <td>258.871120</td>\n",
       "    </tr>\n",
       "  </tbody>\n",
       "</table>\n",
       "</div>"
      ],
      "text/plain": [
       "    Machine Learning Method  Test Accuracy       Best Parameter  \\\n",
       "0  Gradient Boosting Method       0.632323  n_estimators = 1000   \n",
       "1  Adaptive Boosting Method       0.626263    n_estimators = 50   \n",
       "\n",
       "  Top Predictor Variable    Run Time  \n",
       "0               failures  128.752986  \n",
       "1               absences  258.871120  "
      ]
     },
     "execution_count": 16,
     "metadata": {},
     "output_type": "execute_result"
    }
   ],
   "source": [
    "cols = ['Machine Learning Method', 'Test Accuracy', 'Best Parameter', 'Top Predictor Variable', 'Run Time']\n",
    "df2 = pd.DataFrame(columns=cols)\n",
    "\n",
    "df2.loc[0] = results_gbm\n",
    "df2.loc[1] = results_ada\n",
    "\n",
    "df2"
   ]
  },
  {
   "cell_type": "markdown",
   "metadata": {},
   "source": [
    "As shown above, GBM gave the better test accuracy, although neither model exceeded the 1.25 X PCC required. GBM was faster, and both models did not select the highest n_estimator value, which was 5000. Interestingly, GBM chose number of failures as its top predictor, but ADAboost chose number of absences. "
   ]
  },
  {
   "cell_type": "markdown",
   "metadata": {},
   "source": [
    "# Post-EDA: Inspecting why absences was chosen as top predictor for ADA"
   ]
  },
  {
   "cell_type": "code",
   "execution_count": 33,
   "metadata": {
    "ExecuteTime": {
     "end_time": "2021-09-14T12:42:41.291109Z",
     "start_time": "2021-09-14T12:42:41.056071Z"
    }
   },
   "outputs": [
    {
     "data": {
      "text/plain": [
       "AdaBoostClassifier(n_estimators=100)"
      ]
     },
     "execution_count": 33,
     "metadata": {},
     "output_type": "execute_result"
    }
   ],
   "source": [
    "# instantiate model with the optimal hyperparameter\n",
    "X_train, X_test, y_train, y_test = train_test_split(X, y, test_size=0.25, random_state=1)\n",
    "ada = AdaBoostClassifier(n_estimators=100)\n",
    "ada.fit(X_train, y_train)"
   ]
  },
  {
   "cell_type": "code",
   "execution_count": 34,
   "metadata": {
    "ExecuteTime": {
     "end_time": "2021-09-14T12:42:42.095282Z",
     "start_time": "2021-09-14T12:42:42.006651Z"
    },
    "scrolled": true
   },
   "outputs": [
    {
     "name": "stdout",
     "output_type": "stream",
     "text": [
      "iteration 1 misclassified points:  180\n",
      "iteration 2 misclassified points:  156\n",
      "iteration 3 misclassified points:  153\n",
      "iteration 4 misclassified points:  153\n",
      "iteration 5 misclassified points:  136\n",
      "iteration 6 misclassified points:  149\n",
      "iteration 7 misclassified points:  124\n",
      "iteration 8 misclassified points:  132\n",
      "iteration 9 misclassified points:  122\n",
      "iteration 10 misclassified points:  124\n",
      "iteration 11 misclassified points:  125\n",
      "iteration 12 misclassified points:  122\n",
      "iteration 13 misclassified points:  124\n",
      "iteration 14 misclassified points:  123\n",
      "iteration 15 misclassified points:  124\n",
      "iteration 16 misclassified points:  117\n",
      "iteration 17 misclassified points:  120\n",
      "iteration 18 misclassified points:  113\n",
      "iteration 19 misclassified points:  107\n",
      "iteration 20 misclassified points:  108\n",
      "iteration 21 misclassified points:  108\n",
      "iteration 22 misclassified points:  107\n",
      "iteration 23 misclassified points:  115\n",
      "iteration 24 misclassified points:  111\n",
      "iteration 25 misclassified points:  112\n",
      "iteration 26 misclassified points:  115\n",
      "iteration 27 misclassified points:  114\n",
      "iteration 28 misclassified points:  111\n",
      "iteration 29 misclassified points:  108\n",
      "iteration 30 misclassified points:  109\n",
      "iteration 31 misclassified points:  110\n",
      "iteration 32 misclassified points:  110\n",
      "iteration 33 misclassified points:  109\n",
      "iteration 34 misclassified points:  106\n",
      "iteration 35 misclassified points:  102\n",
      "iteration 36 misclassified points:  101\n",
      "iteration 37 misclassified points:  101\n",
      "iteration 38 misclassified points:  108\n",
      "iteration 39 misclassified points:  110\n",
      "iteration 40 misclassified points:  113\n",
      "iteration 41 misclassified points:  110\n",
      "iteration 42 misclassified points:  107\n",
      "iteration 43 misclassified points:  108\n",
      "iteration 44 misclassified points:  110\n",
      "iteration 45 misclassified points:  106\n",
      "iteration 46 misclassified points:  105\n",
      "iteration 47 misclassified points:  106\n",
      "iteration 48 misclassified points:  105\n",
      "iteration 49 misclassified points:  108\n",
      "iteration 50 misclassified points:  105\n",
      "iteration 51 misclassified points:  104\n",
      "iteration 52 misclassified points:  103\n",
      "iteration 53 misclassified points:  106\n",
      "iteration 54 misclassified points:  106\n",
      "iteration 55 misclassified points:  109\n",
      "iteration 56 misclassified points:  98\n",
      "iteration 57 misclassified points:  100\n",
      "iteration 58 misclassified points:  99\n",
      "iteration 59 misclassified points:  101\n",
      "iteration 60 misclassified points:  98\n",
      "iteration 61 misclassified points:  98\n",
      "iteration 62 misclassified points:  99\n",
      "iteration 63 misclassified points:  100\n",
      "iteration 64 misclassified points:  99\n",
      "iteration 65 misclassified points:  102\n",
      "iteration 66 misclassified points:  102\n",
      "iteration 67 misclassified points:  108\n",
      "iteration 68 misclassified points:  104\n",
      "iteration 69 misclassified points:  105\n",
      "iteration 70 misclassified points:  100\n",
      "iteration 71 misclassified points:  100\n",
      "iteration 72 misclassified points:  101\n",
      "iteration 73 misclassified points:  102\n",
      "iteration 74 misclassified points:  104\n",
      "iteration 75 misclassified points:  104\n",
      "iteration 76 misclassified points:  103\n",
      "iteration 77 misclassified points:  104\n",
      "iteration 78 misclassified points:  102\n",
      "iteration 79 misclassified points:  102\n",
      "iteration 80 misclassified points:  101\n",
      "iteration 81 misclassified points:  102\n",
      "iteration 82 misclassified points:  101\n",
      "iteration 83 misclassified points:  100\n",
      "iteration 84 misclassified points:  100\n",
      "iteration 85 misclassified points:  100\n",
      "iteration 86 misclassified points:  100\n",
      "iteration 87 misclassified points:  101\n",
      "iteration 88 misclassified points:  102\n",
      "iteration 89 misclassified points:  101\n",
      "iteration 90 misclassified points:  101\n",
      "iteration 91 misclassified points:  102\n",
      "iteration 92 misclassified points:  103\n",
      "iteration 93 misclassified points:  105\n",
      "iteration 94 misclassified points:  102\n",
      "iteration 95 misclassified points:  107\n",
      "iteration 96 misclassified points:  101\n",
      "iteration 97 misclassified points:  104\n",
      "iteration 98 misclassified points:  103\n",
      "iteration 99 misclassified points:  102\n",
      "iteration 100 misclassified points:  102\n",
      "number of iterations:  100\n",
      "number of predictions 395\n"
     ]
    }
   ],
   "source": [
    "# collect predictions for each iteration\n",
    "staged_predicts = []\n",
    "for i in ada.staged_predict(X):\n",
    "    staged_predicts.append(i)\n",
    "    \n",
    "# get number of misclassified points for each ensemble iteration\n",
    "actuals = np.array(y)\n",
    "i = 1\n",
    "for staged_predict in staged_predicts:\n",
    "    misclassified_pts = np.where(staged_predict!=actuals)[0]\n",
    "    print(f'iteration {i} misclassified points: ', len(misclassified_pts))\n",
    "    i +=1\n",
    "    \n",
    "print('number of iterations: ', len(staged_predicts))\n",
    "print('number of predictions', len(staged_predicts[0]))"
   ]
  },
  {
   "cell_type": "code",
   "execution_count": 35,
   "metadata": {
    "ExecuteTime": {
     "end_time": "2021-09-14T12:42:45.833897Z",
     "start_time": "2021-09-14T12:42:45.560139Z"
    }
   },
   "outputs": [
    {
     "data": {
      "image/png": "[encoded data removed]",
      "text/plain": [
       "<Figure size 720x504 with 1 Axes>"
      ]
     },
     "metadata": {
      "needs_background": "light"
     },
     "output_type": "display_data"
    }
   ],
   "source": [
    "# get the stage with the worst predictions\n",
    "preds = staged_predicts[0]\n",
    "\n",
    "# inspect distribution of \"absences\" feature\n",
    "idxs_misclassified = list(np.where(preds!=actuals)[0])\n",
    "absences_misclassified = df['absences'].filter(items=idxs_misclassified)\n",
    "fig, ax = plt.subplots(figsize=(10,7))\n",
    "sns.countplot(absences_misclassified,label=\"Count\", palette='BrBG')\n",
    "plt.show()"
   ]
  },
  {
   "cell_type": "markdown",
   "metadata": {
    "id": "ih8zGlmmnhS_"
   },
   "source": [
    "Using the ADAboost method staged_predict(), we can actually access the ensemble prediction for each iteration, find misclassified points, and see what their distribution is for the “absences” feature. Apparently there are many students with 0 absences, and it also has more values compared to the other features. This may have contributed to more chances of misclassification, and shows the importance of misclassification in the ADAboost design."
   ]
  },
  {
   "cell_type": "markdown",
   "metadata": {
    "id": "SstR0jZFnhTA"
   },
   "source": [
    "# Conclusion\n",
    "\n",
    "1. GBM had a higher accuracy possibly because it performs better with data that is not “well behaved”, we can see that the distribution of data is not very balanced for some features. The accuracies of both models can be also be improved by feature engineering or more hyperparameter tuning possibly using gridsearch.\n",
    "\n",
    "2. Despite the accuracies of the models, the top predictors can shed light on what teachers can look out for when monitoring students and their performance. By being more aware of these, teachers may be able to step in and help out students before it is too late."
   ]
  },
  {
   "cell_type": "markdown",
   "metadata": {},
   "source": [
    "# Acknowledgements\n",
    "I would like to thank prof Chris Monterola, prof Leo Lorenzo, the ML 1 mentors, and my classmates for all their help in this project and my machine learning journey.\n",
    "\n"
   ]
  },
  {
   "cell_type": "markdown",
   "metadata": {},
   "source": [
    "# References\n",
    "https://archive.ics.uci.edu/ml/datasets/student+performance\n",
    "\n",
    "https://www.youtube.com/watch?v=3CC4N4z3GJc&t=319s\n",
    "\n",
    "https://www.youtube.com/watch?v=LsK-xG1cLYA\n",
    "\n",
    "https://towardsdatascience.com/how-to-select-between-boosting-algorithm-e8d1b15924f7\n",
    "\n",
    "https://www.analyticsvidhya.com/blog/2021/03/introduction-to-adaboost-algorithm-with-python-implementation/\n",
    "\n",
    "https://educationalresearchtechniques.com/2019/01/02/adaboost-classification-in-python/\n",
    "\n",
    "https://medium.com/@chaudhurysrijani/tuning-of-adaboost-with-computational-complexity-8727d01a9d20\n",
    "\n",
    "https://www.analyticsvidhya.com/blog/2020/10/adaboost-and-gradient-boost-comparitive-study-between-2-popular-ensemble-model-techniques/\n",
    "\n",
    "https://analyticsindiamag.com/adaboost-vs-gradient-boosting-a-comparison-of-leading-boosting-algorithms/"
   ]
  }
 ],
 "metadata": {
  "colab": {
   "collapsed_sections": [
    "V8N15wTBnhSx",
    "Irm8eH5tnhS5",
    "OgMgwo78nhS5",
    "bjcZbQEKnhS7",
    "RRzHomN9nhS7",
    "q8x29Lz9nhS_"
   ],
   "name": "Copy of Notebook 6 Supplementary B 7-in-1 Auto ML plus RF and GBM .ipynb",
   "provenance": [
    {
     "file_id": "1J04gqEOOd1XiIwZzwN75mRi209q5t8W7",
     "timestamp": 1629888184069
    }
   ]
  },
  "kernelspec": {
   "display_name": "Python 3 (ipykernel)",
   "language": "python",
   "name": "python3"
  },
  "language_info": {
   "codemirror_mode": {
    "name": "ipython",
    "version": 3
   },
   "file_extension": ".py",
   "mimetype": "text/x-python",
   "name": "python",
   "nbconvert_exporter": "python",
   "pygments_lexer": "ipython3",
   "version": "3.9.13"
  },
  "toc": {
   "base_numbering": 1,
   "nav_menu": {},
   "number_sections": true,
   "sideBar": true,
   "skip_h1_title": false,
   "title_cell": "Table of Contents",
   "title_sidebar": "Contents",
   "toc_cell": false,
   "toc_position": {},
   "toc_section_display": true,
   "toc_window_display": false
  }
 },
 "nbformat": 4,
 "nbformat_minor": 1
}
